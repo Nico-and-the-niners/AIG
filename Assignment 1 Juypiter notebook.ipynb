{
 "cells": [
  {
   "cell_type": "code",
   "execution_count": 15,
   "metadata": {},
   "outputs": [
    {
     "name": "stderr",
     "output_type": "stream",
     "text": [
      "┌ Info: Recompiling stale cache file C:\\Users\\WorkStation\\.juliapro\\JuliaPro_v1.2.0-2\\compiled\\v1.2\\CSV\\HHBkp.ji for CSV [336ed68f-0bac-5ca0-87d4-7b16caf5d00b]\n",
      "└ @ Base loading.jl:1240\n"
     ]
    }
   ],
   "source": [
    "using DataFrames\n",
    "using CSV"
   ]
  },
  {
   "cell_type": "code",
   "execution_count": 281,
   "metadata": {},
   "outputs": [
    {
     "data": {
      "text/html": [
       "<table class=\"data-frame\"><thead><tr><th></th><th>age</th><th>job</th><th>marital</th><th>education</th><th>default</th><th>housing</th><th>loan</th></tr><tr><th></th><th>Int64</th><th>String</th><th>String</th><th>String</th><th>String</th><th>String</th><th>String</th></tr></thead><tbody><p>41,188 rows × 21 columns (omitted printing of 14 columns)</p><tr><th>1</th><td>56</td><td>housemaid</td><td>married</td><td>basic.4y</td><td>no</td><td>no</td><td>no</td></tr><tr><th>2</th><td>57</td><td>services</td><td>married</td><td>high.school</td><td>unknown</td><td>no</td><td>no</td></tr><tr><th>3</th><td>37</td><td>services</td><td>married</td><td>high.school</td><td>no</td><td>yes</td><td>no</td></tr><tr><th>4</th><td>40</td><td>admin.</td><td>married</td><td>basic.6y</td><td>no</td><td>no</td><td>no</td></tr><tr><th>5</th><td>56</td><td>services</td><td>married</td><td>high.school</td><td>no</td><td>no</td><td>yes</td></tr><tr><th>6</th><td>45</td><td>services</td><td>married</td><td>basic.9y</td><td>unknown</td><td>no</td><td>no</td></tr><tr><th>7</th><td>59</td><td>admin.</td><td>married</td><td>professional.course</td><td>no</td><td>no</td><td>no</td></tr><tr><th>8</th><td>41</td><td>blue-collar</td><td>married</td><td>unknown</td><td>unknown</td><td>no</td><td>no</td></tr><tr><th>9</th><td>24</td><td>technician</td><td>single</td><td>professional.course</td><td>no</td><td>yes</td><td>no</td></tr><tr><th>10</th><td>25</td><td>services</td><td>single</td><td>high.school</td><td>no</td><td>yes</td><td>no</td></tr><tr><th>11</th><td>41</td><td>blue-collar</td><td>married</td><td>unknown</td><td>unknown</td><td>no</td><td>no</td></tr><tr><th>12</th><td>25</td><td>services</td><td>single</td><td>high.school</td><td>no</td><td>yes</td><td>no</td></tr><tr><th>13</th><td>29</td><td>blue-collar</td><td>single</td><td>high.school</td><td>no</td><td>no</td><td>yes</td></tr><tr><th>14</th><td>57</td><td>housemaid</td><td>divorced</td><td>basic.4y</td><td>no</td><td>yes</td><td>no</td></tr><tr><th>15</th><td>35</td><td>blue-collar</td><td>married</td><td>basic.6y</td><td>no</td><td>yes</td><td>no</td></tr><tr><th>16</th><td>54</td><td>retired</td><td>married</td><td>basic.9y</td><td>unknown</td><td>yes</td><td>yes</td></tr><tr><th>17</th><td>35</td><td>blue-collar</td><td>married</td><td>basic.6y</td><td>no</td><td>yes</td><td>no</td></tr><tr><th>18</th><td>46</td><td>blue-collar</td><td>married</td><td>basic.6y</td><td>unknown</td><td>yes</td><td>yes</td></tr><tr><th>19</th><td>50</td><td>blue-collar</td><td>married</td><td>basic.9y</td><td>no</td><td>yes</td><td>yes</td></tr><tr><th>20</th><td>39</td><td>management</td><td>single</td><td>basic.9y</td><td>unknown</td><td>no</td><td>no</td></tr><tr><th>21</th><td>30</td><td>unemployed</td><td>married</td><td>high.school</td><td>no</td><td>no</td><td>no</td></tr><tr><th>22</th><td>55</td><td>blue-collar</td><td>married</td><td>basic.4y</td><td>unknown</td><td>yes</td><td>no</td></tr><tr><th>23</th><td>55</td><td>retired</td><td>single</td><td>high.school</td><td>no</td><td>yes</td><td>no</td></tr><tr><th>24</th><td>41</td><td>technician</td><td>single</td><td>high.school</td><td>no</td><td>yes</td><td>no</td></tr><tr><th>25</th><td>37</td><td>admin.</td><td>married</td><td>high.school</td><td>no</td><td>yes</td><td>no</td></tr><tr><th>26</th><td>35</td><td>technician</td><td>married</td><td>university.degree</td><td>no</td><td>no</td><td>yes</td></tr><tr><th>27</th><td>59</td><td>technician</td><td>married</td><td>unknown</td><td>no</td><td>yes</td><td>no</td></tr><tr><th>28</th><td>39</td><td>self-employed</td><td>married</td><td>basic.9y</td><td>unknown</td><td>no</td><td>no</td></tr><tr><th>29</th><td>54</td><td>technician</td><td>single</td><td>university.degree</td><td>unknown</td><td>no</td><td>no</td></tr><tr><th>30</th><td>55</td><td>unknown</td><td>married</td><td>university.degree</td><td>unknown</td><td>unknown</td><td>unknown</td></tr><tr><th>&vellip;</th><td>&vellip;</td><td>&vellip;</td><td>&vellip;</td><td>&vellip;</td><td>&vellip;</td><td>&vellip;</td><td>&vellip;</td></tr></tbody></table>"
      ],
      "text/latex": [
       "\\begin{tabular}{r|cccccccc}\n",
       "\t& age & job & marital & education & default & housing & loan & \\\\\n",
       "\t\\hline\n",
       "\t& Int64 & String & String & String & String & String & String & \\\\\n",
       "\t\\hline\n",
       "\t1 & 56 & housemaid & married & basic.4y & no & no & no & $\\dots$ \\\\\n",
       "\t2 & 57 & services & married & high.school & unknown & no & no & $\\dots$ \\\\\n",
       "\t3 & 37 & services & married & high.school & no & yes & no & $\\dots$ \\\\\n",
       "\t4 & 40 & admin. & married & basic.6y & no & no & no & $\\dots$ \\\\\n",
       "\t5 & 56 & services & married & high.school & no & no & yes & $\\dots$ \\\\\n",
       "\t6 & 45 & services & married & basic.9y & unknown & no & no & $\\dots$ \\\\\n",
       "\t7 & 59 & admin. & married & professional.course & no & no & no & $\\dots$ \\\\\n",
       "\t8 & 41 & blue-collar & married & unknown & unknown & no & no & $\\dots$ \\\\\n",
       "\t9 & 24 & technician & single & professional.course & no & yes & no & $\\dots$ \\\\\n",
       "\t10 & 25 & services & single & high.school & no & yes & no & $\\dots$ \\\\\n",
       "\t11 & 41 & blue-collar & married & unknown & unknown & no & no & $\\dots$ \\\\\n",
       "\t12 & 25 & services & single & high.school & no & yes & no & $\\dots$ \\\\\n",
       "\t13 & 29 & blue-collar & single & high.school & no & no & yes & $\\dots$ \\\\\n",
       "\t14 & 57 & housemaid & divorced & basic.4y & no & yes & no & $\\dots$ \\\\\n",
       "\t15 & 35 & blue-collar & married & basic.6y & no & yes & no & $\\dots$ \\\\\n",
       "\t16 & 54 & retired & married & basic.9y & unknown & yes & yes & $\\dots$ \\\\\n",
       "\t17 & 35 & blue-collar & married & basic.6y & no & yes & no & $\\dots$ \\\\\n",
       "\t18 & 46 & blue-collar & married & basic.6y & unknown & yes & yes & $\\dots$ \\\\\n",
       "\t19 & 50 & blue-collar & married & basic.9y & no & yes & yes & $\\dots$ \\\\\n",
       "\t20 & 39 & management & single & basic.9y & unknown & no & no & $\\dots$ \\\\\n",
       "\t21 & 30 & unemployed & married & high.school & no & no & no & $\\dots$ \\\\\n",
       "\t22 & 55 & blue-collar & married & basic.4y & unknown & yes & no & $\\dots$ \\\\\n",
       "\t23 & 55 & retired & single & high.school & no & yes & no & $\\dots$ \\\\\n",
       "\t24 & 41 & technician & single & high.school & no & yes & no & $\\dots$ \\\\\n",
       "\t25 & 37 & admin. & married & high.school & no & yes & no & $\\dots$ \\\\\n",
       "\t26 & 35 & technician & married & university.degree & no & no & yes & $\\dots$ \\\\\n",
       "\t27 & 59 & technician & married & unknown & no & yes & no & $\\dots$ \\\\\n",
       "\t28 & 39 & self-employed & married & basic.9y & unknown & no & no & $\\dots$ \\\\\n",
       "\t29 & 54 & technician & single & university.degree & unknown & no & no & $\\dots$ \\\\\n",
       "\t30 & 55 & unknown & married & university.degree & unknown & unknown & unknown & $\\dots$ \\\\\n",
       "\t$\\dots$ & $\\dots$ & $\\dots$ & $\\dots$ & $\\dots$ & $\\dots$ & $\\dots$ & $\\dots$ &  \\\\\n",
       "\\end{tabular}\n"
      ],
      "text/plain": [
       "41188×21 DataFrame. Omitted printing of 16 columns\n",
       "│ Row   │ age   │ job         │ marital  │ education           │ default │\n",
       "│       │ \u001b[90mInt64\u001b[39m │ \u001b[90mString\u001b[39m      │ \u001b[90mString\u001b[39m   │ \u001b[90mString\u001b[39m              │ \u001b[90mString\u001b[39m  │\n",
       "├───────┼───────┼─────────────┼──────────┼─────────────────────┼─────────┤\n",
       "│ 1     │ 56    │ housemaid   │ married  │ basic.4y            │ no      │\n",
       "│ 2     │ 57    │ services    │ married  │ high.school         │ unknown │\n",
       "│ 3     │ 37    │ services    │ married  │ high.school         │ no      │\n",
       "│ 4     │ 40    │ admin.      │ married  │ basic.6y            │ no      │\n",
       "│ 5     │ 56    │ services    │ married  │ high.school         │ no      │\n",
       "│ 6     │ 45    │ services    │ married  │ basic.9y            │ unknown │\n",
       "│ 7     │ 59    │ admin.      │ married  │ professional.course │ no      │\n",
       "│ 8     │ 41    │ blue-collar │ married  │ unknown             │ unknown │\n",
       "│ 9     │ 24    │ technician  │ single   │ professional.course │ no      │\n",
       "│ 10    │ 25    │ services    │ single   │ high.school         │ no      │\n",
       "⋮\n",
       "│ 41178 │ 57    │ retired     │ married  │ professional.course │ no      │\n",
       "│ 41179 │ 62    │ retired     │ married  │ university.degree   │ no      │\n",
       "│ 41180 │ 64    │ retired     │ divorced │ professional.course │ no      │\n",
       "│ 41181 │ 36    │ admin.      │ married  │ university.degree   │ no      │\n",
       "│ 41182 │ 37    │ admin.      │ married  │ university.degree   │ no      │\n",
       "│ 41183 │ 29    │ unemployed  │ single   │ basic.4y            │ no      │\n",
       "│ 41184 │ 73    │ retired     │ married  │ professional.course │ no      │\n",
       "│ 41185 │ 46    │ blue-collar │ married  │ professional.course │ no      │\n",
       "│ 41186 │ 56    │ retired     │ married  │ university.degree   │ no      │\n",
       "│ 41187 │ 44    │ technician  │ married  │ professional.course │ no      │\n",
       "│ 41188 │ 74    │ retired     │ married  │ professional.course │ no      │"
      ]
     },
     "execution_count": 281,
     "metadata": {},
     "output_type": "execute_result"
    }
   ],
   "source": [
    "#Loading Data\n",
    "using CSV\n",
    "data = CSV.read(\"bank-additional-full.csv\"; copycols=true)"
   ]
  },
  {
   "cell_type": "code",
   "execution_count": 282,
   "metadata": {},
   "outputs": [
    {
     "data": {
      "text/plain": [
       "21-element Array{Symbol,1}:\n",
       " :age                    \n",
       " :job                    \n",
       " :marital                \n",
       " :education              \n",
       " :default                \n",
       " :housing                \n",
       " :loan                   \n",
       " :contact                \n",
       " :month                  \n",
       " :day_of_week            \n",
       " :duration               \n",
       " :campaign               \n",
       " :pdays                  \n",
       " :previous               \n",
       " :poutcome               \n",
       " Symbol(\"emp.var.rate\")  \n",
       " Symbol(\"cons.price.idx\")\n",
       " Symbol(\"cons.conf.idx\") \n",
       " :euribor3m              \n",
       " Symbol(\"nr.employed\")   \n",
       " :y                      "
      ]
     },
     "execution_count": 282,
     "metadata": {},
     "output_type": "execute_result"
    }
   ],
   "source": [
    "#checking all the columns\n",
    "names(data)"
   ]
  },
  {
   "cell_type": "code",
   "execution_count": 283,
   "metadata": {},
   "outputs": [
    {
     "name": "stdout",
     "output_type": "stream",
     "text": [
      "41188×21 DataFrame. Omitted printing of 16 columns\n",
      "│ Row   │ age   │ job         │ marital  │ education           │ default │\n",
      "│       │ \u001b[90mInt64\u001b[39m │ \u001b[90mString\u001b[39m      │ \u001b[90mString\u001b[39m   │ \u001b[90mString\u001b[39m              │ \u001b[90mString\u001b[39m  │\n",
      "├───────┼───────┼─────────────┼──────────┼─────────────────────┼─────────┤\n",
      "│ 1     │ 56    │ housemaid   │ married  │ basic.4y            │ no      │\n",
      "│ 2     │ 57    │ services    │ married  │ high.school         │ unknown │\n",
      "│ 3     │ 37    │ services    │ married  │ high.school         │ no      │\n",
      "│ 4     │ 40    │ admin.      │ married  │ basic.6y            │ no      │\n",
      "│ 5     │ 56    │ services    │ married  │ high.school         │ no      │\n",
      "│ 6     │ 45    │ services    │ married  │ basic.9y            │ unknown │\n",
      "│ 7     │ 59    │ admin.      │ married  │ professional.course │ no      │\n",
      "│ 8     │ 41    │ blue-collar │ married  │ unknown             │ unknown │\n",
      "│ 9     │ 24    │ technician  │ single   │ professional.course │ no      │\n",
      "│ 10    │ 25    │ services    │ single   │ high.school         │ no      │\n",
      "⋮\n",
      "│ 41178 │ 57    │ retired     │ married  │ professional.course │ no      │\n",
      "│ 41179 │ 62    │ retired     │ married  │ university.degree   │ no      │\n",
      "│ 41180 │ 64    │ retired     │ divorced │ professional.course │ no      │\n",
      "│ 41181 │ 36    │ admin.      │ married  │ university.degree   │ no      │\n",
      "│ 41182 │ 37    │ admin.      │ married  │ university.degree   │ no      │\n",
      "│ 41183 │ 29    │ unemployed  │ single   │ basic.4y            │ no      │\n",
      "│ 41184 │ 73    │ retired     │ married  │ professional.course │ no      │\n",
      "│ 41185 │ 46    │ blue-collar │ married  │ professional.course │ no      │\n",
      "│ 41186 │ 56    │ retired     │ married  │ university.degree   │ no      │\n",
      "│ 41187 │ 44    │ technician  │ married  │ professional.course │ no      │\n",
      "│ 41188 │ 74    │ retired     │ married  │ professional.course │ no      │"
     ]
    }
   ],
   "source": [
    "show(data)"
   ]
  },
  {
   "cell_type": "code",
   "execution_count": 285,
   "metadata": {},
   "outputs": [],
   "source": [
    "#filter out the unkown data for jobs\n",
    "filter!(row -> row[:job] != (\"unknown\"), data);"
   ]
  },
  {
   "cell_type": "code",
   "execution_count": 286,
   "metadata": {},
   "outputs": [
    {
     "name": "stdout",
     "output_type": "stream",
     "text": [
      "40858×21 DataFrame. Omitted printing of 16 columns\n",
      "│ Row   │ age   │ job         │ marital  │ education           │ default │\n",
      "│       │ \u001b[90mInt64\u001b[39m │ \u001b[90mString\u001b[39m      │ \u001b[90mString\u001b[39m   │ \u001b[90mString\u001b[39m              │ \u001b[90mString\u001b[39m  │\n",
      "├───────┼───────┼─────────────┼──────────┼─────────────────────┼─────────┤\n",
      "│ 1     │ 56    │ housemaid   │ married  │ basic.4y            │ no      │\n",
      "│ 2     │ 57    │ services    │ married  │ high.school         │ unknown │\n",
      "│ 3     │ 37    │ services    │ married  │ high.school         │ no      │\n",
      "│ 4     │ 40    │ admin.      │ married  │ basic.6y            │ no      │\n",
      "│ 5     │ 56    │ services    │ married  │ high.school         │ no      │\n",
      "│ 6     │ 45    │ services    │ married  │ basic.9y            │ unknown │\n",
      "│ 7     │ 59    │ admin.      │ married  │ professional.course │ no      │\n",
      "│ 8     │ 41    │ blue-collar │ married  │ unknown             │ unknown │\n",
      "│ 9     │ 24    │ technician  │ single   │ professional.course │ no      │\n",
      "│ 10    │ 25    │ services    │ single   │ high.school         │ no      │\n",
      "⋮\n",
      "│ 40848 │ 57    │ retired     │ married  │ professional.course │ no      │\n",
      "│ 40849 │ 62    │ retired     │ married  │ university.degree   │ no      │\n",
      "│ 40850 │ 64    │ retired     │ divorced │ professional.course │ no      │\n",
      "│ 40851 │ 36    │ admin.      │ married  │ university.degree   │ no      │\n",
      "│ 40852 │ 37    │ admin.      │ married  │ university.degree   │ no      │\n",
      "│ 40853 │ 29    │ unemployed  │ single   │ basic.4y            │ no      │\n",
      "│ 40854 │ 73    │ retired     │ married  │ professional.course │ no      │\n",
      "│ 40855 │ 46    │ blue-collar │ married  │ professional.course │ no      │\n",
      "│ 40856 │ 56    │ retired     │ married  │ university.degree   │ no      │\n",
      "│ 40857 │ 44    │ technician  │ married  │ professional.course │ no      │\n",
      "│ 40858 │ 74    │ retired     │ married  │ professional.course │ no      │"
     ]
    }
   ],
   "source": [
    "show(data)"
   ]
  },
  {
   "cell_type": "code",
   "execution_count": 287,
   "metadata": {},
   "outputs": [],
   "source": [
    "#filter out unkowns for marital\n",
    "filter!(row -> row[:marital] != (\"unknown\"), data);"
   ]
  },
  {
   "cell_type": "code",
   "execution_count": 50,
   "metadata": {},
   "outputs": [
    {
     "name": "stdout",
     "output_type": "stream",
     "text": [
      "40786×21 DataFrame. Omitted printing of 16 columns\n",
      "│ Row   │ age   │ job         │ marital  │ education           │ default │\n",
      "│       │ \u001b[90mInt64\u001b[39m │ \u001b[90mString\u001b[39m      │ \u001b[90mString\u001b[39m   │ \u001b[90mString\u001b[39m              │ \u001b[90mString\u001b[39m  │\n",
      "├───────┼───────┼─────────────┼──────────┼─────────────────────┼─────────┤\n",
      "│ 1     │ 57    │ services    │ married  │ high.school         │ unknown │\n",
      "│ 2     │ 37    │ services    │ married  │ high.school         │ no      │\n",
      "│ 3     │ 40    │ admin.      │ married  │ basic.6y            │ no      │\n",
      "│ 4     │ 56    │ services    │ married  │ high.school         │ no      │\n",
      "│ 5     │ 45    │ services    │ married  │ basic.9y            │ unknown │\n",
      "│ 6     │ 59    │ admin.      │ married  │ professional.course │ no      │\n",
      "│ 7     │ 41    │ blue-collar │ married  │ unknown             │ unknown │\n",
      "│ 8     │ 24    │ technician  │ single   │ professional.course │ no      │\n",
      "│ 9     │ 25    │ services    │ single   │ high.school         │ no      │\n",
      "│ 10    │ 41    │ blue-collar │ married  │ unknown             │ unknown │\n",
      "⋮\n",
      "│ 40776 │ 57    │ retired     │ married  │ professional.course │ no      │\n",
      "│ 40777 │ 62    │ retired     │ married  │ university.degree   │ no      │\n",
      "│ 40778 │ 64    │ retired     │ divorced │ professional.course │ no      │\n",
      "│ 40779 │ 36    │ admin.      │ married  │ university.degree   │ no      │\n",
      "│ 40780 │ 37    │ admin.      │ married  │ university.degree   │ no      │\n",
      "│ 40781 │ 29    │ unemployed  │ single   │ basic.4y            │ no      │\n",
      "│ 40782 │ 73    │ retired     │ married  │ professional.course │ no      │\n",
      "│ 40783 │ 46    │ blue-collar │ married  │ professional.course │ no      │\n",
      "│ 40784 │ 56    │ retired     │ married  │ university.degree   │ no      │\n",
      "│ 40785 │ 44    │ technician  │ married  │ professional.course │ no      │\n",
      "│ 40786 │ 74    │ retired     │ married  │ professional.course │ no      │"
     ]
    }
   ],
   "source": [
    "show(data)"
   ]
  },
  {
   "cell_type": "code",
   "execution_count": 290,
   "metadata": {},
   "outputs": [],
   "source": [
    "#filter out education unknown\n",
    "filter!(row -> row[:education] != (\"unknown\"), data);"
   ]
  },
  {
   "cell_type": "code",
   "execution_count": 291,
   "metadata": {},
   "outputs": [
    {
     "name": "stdout",
     "output_type": "stream",
     "text": [
      "39191×21 DataFrame. Omitted printing of 16 columns\n",
      "│ Row   │ age   │ job         │ marital  │ education           │ default │\n",
      "│       │ \u001b[90mInt64\u001b[39m │ \u001b[90mString\u001b[39m      │ \u001b[90mString\u001b[39m   │ \u001b[90mString\u001b[39m              │ \u001b[90mString\u001b[39m  │\n",
      "├───────┼───────┼─────────────┼──────────┼─────────────────────┼─────────┤\n",
      "│ 1     │ 56    │ housemaid   │ married  │ basic.4y            │ no      │\n",
      "│ 2     │ 57    │ services    │ married  │ high.school         │ unknown │\n",
      "│ 3     │ 37    │ services    │ married  │ high.school         │ no      │\n",
      "│ 4     │ 40    │ admin.      │ married  │ basic.6y            │ no      │\n",
      "│ 5     │ 56    │ services    │ married  │ high.school         │ no      │\n",
      "│ 6     │ 45    │ services    │ married  │ basic.9y            │ unknown │\n",
      "│ 7     │ 59    │ admin.      │ married  │ professional.course │ no      │\n",
      "│ 8     │ 24    │ technician  │ single   │ professional.course │ no      │\n",
      "│ 9     │ 25    │ services    │ single   │ high.school         │ no      │\n",
      "│ 10    │ 25    │ services    │ single   │ high.school         │ no      │\n",
      "⋮\n",
      "│ 39181 │ 57    │ retired     │ married  │ professional.course │ no      │\n",
      "│ 39182 │ 62    │ retired     │ married  │ university.degree   │ no      │\n",
      "│ 39183 │ 64    │ retired     │ divorced │ professional.course │ no      │\n",
      "│ 39184 │ 36    │ admin.      │ married  │ university.degree   │ no      │\n",
      "│ 39185 │ 37    │ admin.      │ married  │ university.degree   │ no      │\n",
      "│ 39186 │ 29    │ unemployed  │ single   │ basic.4y            │ no      │\n",
      "│ 39187 │ 73    │ retired     │ married  │ professional.course │ no      │\n",
      "│ 39188 │ 46    │ blue-collar │ married  │ professional.course │ no      │\n",
      "│ 39189 │ 56    │ retired     │ married  │ university.degree   │ no      │\n",
      "│ 39190 │ 44    │ technician  │ married  │ professional.course │ no      │\n",
      "│ 39191 │ 74    │ retired     │ married  │ professional.course │ no      │"
     ]
    }
   ],
   "source": [
    "show(data)"
   ]
  },
  {
   "cell_type": "code",
   "execution_count": 289,
   "metadata": {},
   "outputs": [
    {
     "data": {
      "text/html": [
       "<p>39191×21 DataFrameColumns (with names=false)</p><table class=\"data-frame\"><thead><tr><th></th><th>age</th><th>job</th><th>marital</th><th>education</th><th>default</th><th>housing</th><th>loan</th><th>contact</th></tr><tr><th></th><th>Int64</th><th>String</th><th>String</th><th>String</th><th>String</th><th>String</th><th>String</th><th>String</th></tr></thead><tbody><tr><th>1</th><td>56</td><td>housemaid</td><td>married</td><td>basic.4y</td><td>no</td><td>no</td><td>no</td><td>telephone</td></tr><tr><th>2</th><td>57</td><td>services</td><td>married</td><td>high.school</td><td>unknown</td><td>no</td><td>no</td><td>telephone</td></tr><tr><th>3</th><td>37</td><td>services</td><td>married</td><td>high.school</td><td>no</td><td>yes</td><td>no</td><td>telephone</td></tr><tr><th>4</th><td>40</td><td>admin.</td><td>married</td><td>basic.6y</td><td>no</td><td>no</td><td>no</td><td>telephone</td></tr><tr><th>5</th><td>56</td><td>services</td><td>married</td><td>high.school</td><td>no</td><td>no</td><td>yes</td><td>telephone</td></tr><tr><th>6</th><td>45</td><td>services</td><td>married</td><td>basic.9y</td><td>unknown</td><td>no</td><td>no</td><td>telephone</td></tr><tr><th>7</th><td>59</td><td>admin.</td><td>married</td><td>professional.course</td><td>no</td><td>no</td><td>no</td><td>telephone</td></tr><tr><th>8</th><td>24</td><td>technician</td><td>single</td><td>professional.course</td><td>no</td><td>yes</td><td>no</td><td>telephone</td></tr><tr><th>9</th><td>25</td><td>services</td><td>single</td><td>high.school</td><td>no</td><td>yes</td><td>no</td><td>telephone</td></tr><tr><th>10</th><td>25</td><td>services</td><td>single</td><td>high.school</td><td>no</td><td>yes</td><td>no</td><td>telephone</td></tr><tr><th>11</th><td>29</td><td>blue-collar</td><td>single</td><td>high.school</td><td>no</td><td>no</td><td>yes</td><td>telephone</td></tr><tr><th>12</th><td>57</td><td>housemaid</td><td>divorced</td><td>basic.4y</td><td>no</td><td>yes</td><td>no</td><td>telephone</td></tr><tr><th>13</th><td>35</td><td>blue-collar</td><td>married</td><td>basic.6y</td><td>no</td><td>yes</td><td>no</td><td>telephone</td></tr><tr><th>14</th><td>54</td><td>retired</td><td>married</td><td>basic.9y</td><td>unknown</td><td>yes</td><td>yes</td><td>telephone</td></tr><tr><th>15</th><td>35</td><td>blue-collar</td><td>married</td><td>basic.6y</td><td>no</td><td>yes</td><td>no</td><td>telephone</td></tr><tr><th>16</th><td>46</td><td>blue-collar</td><td>married</td><td>basic.6y</td><td>unknown</td><td>yes</td><td>yes</td><td>telephone</td></tr><tr><th>17</th><td>50</td><td>blue-collar</td><td>married</td><td>basic.9y</td><td>no</td><td>yes</td><td>yes</td><td>telephone</td></tr><tr><th>18</th><td>39</td><td>management</td><td>single</td><td>basic.9y</td><td>unknown</td><td>no</td><td>no</td><td>telephone</td></tr><tr><th>19</th><td>30</td><td>unemployed</td><td>married</td><td>high.school</td><td>no</td><td>no</td><td>no</td><td>telephone</td></tr><tr><th>20</th><td>55</td><td>blue-collar</td><td>married</td><td>basic.4y</td><td>unknown</td><td>yes</td><td>no</td><td>telephone</td></tr><tr><th>21</th><td>55</td><td>retired</td><td>single</td><td>high.school</td><td>no</td><td>yes</td><td>no</td><td>telephone</td></tr><tr><th>22</th><td>41</td><td>technician</td><td>single</td><td>high.school</td><td>no</td><td>yes</td><td>no</td><td>telephone</td></tr><tr><th>23</th><td>37</td><td>admin.</td><td>married</td><td>high.school</td><td>no</td><td>yes</td><td>no</td><td>telephone</td></tr><tr><th>24</th><td>35</td><td>technician</td><td>married</td><td>university.degree</td><td>no</td><td>no</td><td>yes</td><td>telephone</td></tr><tr><th>25</th><td>39</td><td>self-employed</td><td>married</td><td>basic.9y</td><td>unknown</td><td>no</td><td>no</td><td>telephone</td></tr><tr><th>26</th><td>54</td><td>technician</td><td>single</td><td>university.degree</td><td>unknown</td><td>no</td><td>no</td><td>telephone</td></tr><tr><th>27</th><td>54</td><td>management</td><td>married</td><td>basic.4y</td><td>unknown</td><td>yes</td><td>no</td><td>telephone</td></tr><tr><th>28</th><td>54</td><td>blue-collar</td><td>divorced</td><td>basic.4y</td><td>no</td><td>no</td><td>no</td><td>telephone</td></tr><tr><th>29</th><td>34</td><td>services</td><td>married</td><td>high.school</td><td>no</td><td>no</td><td>no</td><td>telephone</td></tr><tr><th>30</th><td>52</td><td>technician</td><td>married</td><td>basic.9y</td><td>no</td><td>yes</td><td>no</td><td>telephone</td></tr><tr><th>&vellip;</th><td>&vellip;</td><td>&vellip;</td><td>&vellip;</td><td>&vellip;</td><td>&vellip;</td><td>&vellip;</td><td>&vellip;</td><td>&vellip;</td></tr></tbody></table>"
      ],
      "text/latex": [
       "\\begin{tabular}{r|ccccccccc}\n",
       "\t& age & job & marital & education & default & housing & loan & contact & \\\\\n",
       "\t\\hline\n",
       "\t& Int64 & String & String & String & String & String & String & String & \\\\\n",
       "\t\\hline\n",
       "\t1 & 56 & housemaid & married & basic.4y & no & no & no & telephone & $\\dots$ \\\\\n",
       "\t2 & 57 & services & married & high.school & unknown & no & no & telephone & $\\dots$ \\\\\n",
       "\t3 & 37 & services & married & high.school & no & yes & no & telephone & $\\dots$ \\\\\n",
       "\t4 & 40 & admin. & married & basic.6y & no & no & no & telephone & $\\dots$ \\\\\n",
       "\t5 & 56 & services & married & high.school & no & no & yes & telephone & $\\dots$ \\\\\n",
       "\t6 & 45 & services & married & basic.9y & unknown & no & no & telephone & $\\dots$ \\\\\n",
       "\t7 & 59 & admin. & married & professional.course & no & no & no & telephone & $\\dots$ \\\\\n",
       "\t8 & 24 & technician & single & professional.course & no & yes & no & telephone & $\\dots$ \\\\\n",
       "\t9 & 25 & services & single & high.school & no & yes & no & telephone & $\\dots$ \\\\\n",
       "\t10 & 25 & services & single & high.school & no & yes & no & telephone & $\\dots$ \\\\\n",
       "\t11 & 29 & blue-collar & single & high.school & no & no & yes & telephone & $\\dots$ \\\\\n",
       "\t12 & 57 & housemaid & divorced & basic.4y & no & yes & no & telephone & $\\dots$ \\\\\n",
       "\t13 & 35 & blue-collar & married & basic.6y & no & yes & no & telephone & $\\dots$ \\\\\n",
       "\t14 & 54 & retired & married & basic.9y & unknown & yes & yes & telephone & $\\dots$ \\\\\n",
       "\t15 & 35 & blue-collar & married & basic.6y & no & yes & no & telephone & $\\dots$ \\\\\n",
       "\t16 & 46 & blue-collar & married & basic.6y & unknown & yes & yes & telephone & $\\dots$ \\\\\n",
       "\t17 & 50 & blue-collar & married & basic.9y & no & yes & yes & telephone & $\\dots$ \\\\\n",
       "\t18 & 39 & management & single & basic.9y & unknown & no & no & telephone & $\\dots$ \\\\\n",
       "\t19 & 30 & unemployed & married & high.school & no & no & no & telephone & $\\dots$ \\\\\n",
       "\t20 & 55 & blue-collar & married & basic.4y & unknown & yes & no & telephone & $\\dots$ \\\\\n",
       "\t21 & 55 & retired & single & high.school & no & yes & no & telephone & $\\dots$ \\\\\n",
       "\t22 & 41 & technician & single & high.school & no & yes & no & telephone & $\\dots$ \\\\\n",
       "\t23 & 37 & admin. & married & high.school & no & yes & no & telephone & $\\dots$ \\\\\n",
       "\t24 & 35 & technician & married & university.degree & no & no & yes & telephone & $\\dots$ \\\\\n",
       "\t25 & 39 & self-employed & married & basic.9y & unknown & no & no & telephone & $\\dots$ \\\\\n",
       "\t26 & 54 & technician & single & university.degree & unknown & no & no & telephone & $\\dots$ \\\\\n",
       "\t27 & 54 & management & married & basic.4y & unknown & yes & no & telephone & $\\dots$ \\\\\n",
       "\t28 & 54 & blue-collar & divorced & basic.4y & no & no & no & telephone & $\\dots$ \\\\\n",
       "\t29 & 34 & services & married & high.school & no & no & no & telephone & $\\dots$ \\\\\n",
       "\t30 & 52 & technician & married & basic.9y & no & yes & no & telephone & $\\dots$ \\\\\n",
       "\t$\\dots$ & $\\dots$ & $\\dots$ & $\\dots$ & $\\dots$ & $\\dots$ & $\\dots$ & $\\dots$ & $\\dots$ &  \\\\\n",
       "\\end{tabular}\n"
      ],
      "text/plain": [
       "39191×21 DataFrameColumns (with names=false). Omitted printing of 16 columns\n",
       "│ Row   │ age   │ job         │ marital  │ education           │ default │\n",
       "│       │ \u001b[90mInt64\u001b[39m │ \u001b[90mString\u001b[39m      │ \u001b[90mString\u001b[39m   │ \u001b[90mString\u001b[39m              │ \u001b[90mString\u001b[39m  │\n",
       "├───────┼───────┼─────────────┼──────────┼─────────────────────┼─────────┤\n",
       "│ 1     │ 56    │ housemaid   │ married  │ basic.4y            │ no      │\n",
       "│ 2     │ 57    │ services    │ married  │ high.school         │ unknown │\n",
       "│ 3     │ 37    │ services    │ married  │ high.school         │ no      │\n",
       "│ 4     │ 40    │ admin.      │ married  │ basic.6y            │ no      │\n",
       "│ 5     │ 56    │ services    │ married  │ high.school         │ no      │\n",
       "│ 6     │ 45    │ services    │ married  │ basic.9y            │ unknown │\n",
       "│ 7     │ 59    │ admin.      │ married  │ professional.course │ no      │\n",
       "│ 8     │ 24    │ technician  │ single   │ professional.course │ no      │\n",
       "│ 9     │ 25    │ services    │ single   │ high.school         │ no      │\n",
       "│ 10    │ 25    │ services    │ single   │ high.school         │ no      │\n",
       "⋮\n",
       "│ 39181 │ 57    │ retired     │ married  │ professional.course │ no      │\n",
       "│ 39182 │ 62    │ retired     │ married  │ university.degree   │ no      │\n",
       "│ 39183 │ 64    │ retired     │ divorced │ professional.course │ no      │\n",
       "│ 39184 │ 36    │ admin.      │ married  │ university.degree   │ no      │\n",
       "│ 39185 │ 37    │ admin.      │ married  │ university.degree   │ no      │\n",
       "│ 39186 │ 29    │ unemployed  │ single   │ basic.4y            │ no      │\n",
       "│ 39187 │ 73    │ retired     │ married  │ professional.course │ no      │\n",
       "│ 39188 │ 46    │ blue-collar │ married  │ professional.course │ no      │\n",
       "│ 39189 │ 56    │ retired     │ married  │ university.degree   │ no      │\n",
       "│ 39190 │ 44    │ technician  │ married  │ professional.course │ no      │\n",
       "│ 39191 │ 74    │ retired     │ married  │ professional.course │ no      │"
      ]
     },
     "execution_count": 289,
     "metadata": {},
     "output_type": "execute_result"
    }
   ],
   "source": [
    "eachcol(filter!(row -> row[:marital] != (\"unknown\"), data);)"
   ]
  },
  {
   "cell_type": "code",
   "execution_count": 292,
   "metadata": {},
   "outputs": [],
   "source": [
    "#filter out unkowns for defualt\n",
    "filter!(row -> row[:default] != (\"unknown\"), data);"
   ]
  },
  {
   "cell_type": "code",
   "execution_count": 293,
   "metadata": {},
   "outputs": [
    {
     "name": "stdout",
     "output_type": "stream",
     "text": [
      "31227×21 DataFrame. Omitted printing of 16 columns\n",
      "│ Row   │ age   │ job         │ marital  │ education           │ default │\n",
      "│       │ \u001b[90mInt64\u001b[39m │ \u001b[90mString\u001b[39m      │ \u001b[90mString\u001b[39m   │ \u001b[90mString\u001b[39m              │ \u001b[90mString\u001b[39m  │\n",
      "├───────┼───────┼─────────────┼──────────┼─────────────────────┼─────────┤\n",
      "│ 1     │ 56    │ housemaid   │ married  │ basic.4y            │ no      │\n",
      "│ 2     │ 37    │ services    │ married  │ high.school         │ no      │\n",
      "│ 3     │ 40    │ admin.      │ married  │ basic.6y            │ no      │\n",
      "│ 4     │ 56    │ services    │ married  │ high.school         │ no      │\n",
      "│ 5     │ 59    │ admin.      │ married  │ professional.course │ no      │\n",
      "│ 6     │ 24    │ technician  │ single   │ professional.course │ no      │\n",
      "│ 7     │ 25    │ services    │ single   │ high.school         │ no      │\n",
      "│ 8     │ 25    │ services    │ single   │ high.school         │ no      │\n",
      "│ 9     │ 29    │ blue-collar │ single   │ high.school         │ no      │\n",
      "│ 10    │ 57    │ housemaid   │ divorced │ basic.4y            │ no      │\n",
      "⋮\n",
      "│ 31217 │ 57    │ retired     │ married  │ professional.course │ no      │\n",
      "│ 31218 │ 62    │ retired     │ married  │ university.degree   │ no      │\n",
      "│ 31219 │ 64    │ retired     │ divorced │ professional.course │ no      │\n",
      "│ 31220 │ 36    │ admin.      │ married  │ university.degree   │ no      │\n",
      "│ 31221 │ 37    │ admin.      │ married  │ university.degree   │ no      │\n",
      "│ 31222 │ 29    │ unemployed  │ single   │ basic.4y            │ no      │\n",
      "│ 31223 │ 73    │ retired     │ married  │ professional.course │ no      │\n",
      "│ 31224 │ 46    │ blue-collar │ married  │ professional.course │ no      │\n",
      "│ 31225 │ 56    │ retired     │ married  │ university.degree   │ no      │\n",
      "│ 31226 │ 44    │ technician  │ married  │ professional.course │ no      │\n",
      "│ 31227 │ 74    │ retired     │ married  │ professional.course │ no      │"
     ]
    }
   ],
   "source": [
    "show(data)"
   ]
  },
  {
   "cell_type": "code",
   "execution_count": 294,
   "metadata": {},
   "outputs": [
    {
     "name": "stderr",
     "output_type": "stream",
     "text": [
      "┌ Warning: `tail(df::AbstractDataFrame)` is deprecated, use `last(df, 6)` instead.\n",
      "│   caller = top-level scope at In[294]:1\n",
      "└ @ Core In[294]:1\n"
     ]
    },
    {
     "data": {
      "text/html": [
       "<table class=\"data-frame\"><thead><tr><th></th><th>age</th><th>job</th><th>marital</th><th>education</th><th>default</th><th>housing</th><th>loan</th><th>contact</th></tr><tr><th></th><th>Int64</th><th>String</th><th>String</th><th>String</th><th>String</th><th>String</th><th>String</th><th>String</th></tr></thead><tbody><p>6 rows × 21 columns (omitted printing of 13 columns)</p><tr><th>1</th><td>29</td><td>unemployed</td><td>single</td><td>basic.4y</td><td>no</td><td>yes</td><td>no</td><td>cellular</td></tr><tr><th>2</th><td>73</td><td>retired</td><td>married</td><td>professional.course</td><td>no</td><td>yes</td><td>no</td><td>cellular</td></tr><tr><th>3</th><td>46</td><td>blue-collar</td><td>married</td><td>professional.course</td><td>no</td><td>no</td><td>no</td><td>cellular</td></tr><tr><th>4</th><td>56</td><td>retired</td><td>married</td><td>university.degree</td><td>no</td><td>yes</td><td>no</td><td>cellular</td></tr><tr><th>5</th><td>44</td><td>technician</td><td>married</td><td>professional.course</td><td>no</td><td>no</td><td>no</td><td>cellular</td></tr><tr><th>6</th><td>74</td><td>retired</td><td>married</td><td>professional.course</td><td>no</td><td>yes</td><td>no</td><td>cellular</td></tr></tbody></table>"
      ],
      "text/latex": [
       "\\begin{tabular}{r|ccccccccc}\n",
       "\t& age & job & marital & education & default & housing & loan & contact & \\\\\n",
       "\t\\hline\n",
       "\t& Int64 & String & String & String & String & String & String & String & \\\\\n",
       "\t\\hline\n",
       "\t1 & 29 & unemployed & single & basic.4y & no & yes & no & cellular & $\\dots$ \\\\\n",
       "\t2 & 73 & retired & married & professional.course & no & yes & no & cellular & $\\dots$ \\\\\n",
       "\t3 & 46 & blue-collar & married & professional.course & no & no & no & cellular & $\\dots$ \\\\\n",
       "\t4 & 56 & retired & married & university.degree & no & yes & no & cellular & $\\dots$ \\\\\n",
       "\t5 & 44 & technician & married & professional.course & no & no & no & cellular & $\\dots$ \\\\\n",
       "\t6 & 74 & retired & married & professional.course & no & yes & no & cellular & $\\dots$ \\\\\n",
       "\\end{tabular}\n"
      ],
      "text/plain": [
       "6×21 DataFrame. Omitted printing of 16 columns\n",
       "│ Row │ age   │ job         │ marital │ education           │ default │\n",
       "│     │ \u001b[90mInt64\u001b[39m │ \u001b[90mString\u001b[39m      │ \u001b[90mString\u001b[39m  │ \u001b[90mString\u001b[39m              │ \u001b[90mString\u001b[39m  │\n",
       "├─────┼───────┼─────────────┼─────────┼─────────────────────┼─────────┤\n",
       "│ 1   │ 29    │ unemployed  │ single  │ basic.4y            │ no      │\n",
       "│ 2   │ 73    │ retired     │ married │ professional.course │ no      │\n",
       "│ 3   │ 46    │ blue-collar │ married │ professional.course │ no      │\n",
       "│ 4   │ 56    │ retired     │ married │ university.degree   │ no      │\n",
       "│ 5   │ 44    │ technician  │ married │ professional.course │ no      │\n",
       "│ 6   │ 74    │ retired     │ married │ professional.course │ no      │"
      ]
     },
     "execution_count": 294,
     "metadata": {},
     "output_type": "execute_result"
    }
   ],
   "source": [
    "tail(data)"
   ]
  },
  {
   "cell_type": "code",
   "execution_count": 295,
   "metadata": {},
   "outputs": [
    {
     "name": "stdout",
     "output_type": "stream",
     "text": [
      "31227×21 DataFrame. Omitted printing of 16 columns\n",
      "│ Row   │ age   │ job         │ marital  │ education           │ default │\n",
      "│       │ \u001b[90mInt64\u001b[39m │ \u001b[90mString\u001b[39m      │ \u001b[90mString\u001b[39m   │ \u001b[90mString\u001b[39m              │ \u001b[90mString\u001b[39m  │\n",
      "├───────┼───────┼─────────────┼──────────┼─────────────────────┼─────────┤\n",
      "│ 1     │ 56    │ housemaid   │ married  │ basic.4y            │ no      │\n",
      "│ 2     │ 37    │ services    │ married  │ high.school         │ no      │\n",
      "│ 3     │ 40    │ admin.      │ married  │ basic.6y            │ no      │\n",
      "│ 4     │ 56    │ services    │ married  │ high.school         │ no      │\n",
      "│ 5     │ 59    │ admin.      │ married  │ professional.course │ no      │\n",
      "│ 6     │ 24    │ technician  │ single   │ professional.course │ no      │\n",
      "│ 7     │ 25    │ services    │ single   │ high.school         │ no      │\n",
      "│ 8     │ 25    │ services    │ single   │ high.school         │ no      │\n",
      "│ 9     │ 29    │ blue-collar │ single   │ high.school         │ no      │\n",
      "│ 10    │ 57    │ housemaid   │ divorced │ basic.4y            │ no      │\n",
      "⋮\n",
      "│ 31217 │ 57    │ retired     │ married  │ professional.course │ no      │\n",
      "│ 31218 │ 62    │ retired     │ married  │ university.degree   │ no      │\n",
      "│ 31219 │ 64    │ retired     │ divorced │ professional.course │ no      │\n",
      "│ 31220 │ 36    │ admin.      │ married  │ university.degree   │ no      │\n",
      "│ 31221 │ 37    │ admin.      │ married  │ university.degree   │ no      │\n",
      "│ 31222 │ 29    │ unemployed  │ single   │ basic.4y            │ no      │\n",
      "│ 31223 │ 73    │ retired     │ married  │ professional.course │ no      │\n",
      "│ 31224 │ 46    │ blue-collar │ married  │ professional.course │ no      │\n",
      "│ 31225 │ 56    │ retired     │ married  │ university.degree   │ no      │\n",
      "│ 31226 │ 44    │ technician  │ married  │ professional.course │ no      │\n",
      "│ 31227 │ 74    │ retired     │ married  │ professional.course │ no      │"
     ]
    }
   ],
   "source": [
    "show(data)"
   ]
  },
  {
   "cell_type": "code",
   "execution_count": 296,
   "metadata": {},
   "outputs": [],
   "source": [
    "#filter out unknowns for loan\n",
    "filter!(row -> row[:loan] != (\"unknown\"), data);"
   ]
  },
  {
   "cell_type": "code",
   "execution_count": 297,
   "metadata": {},
   "outputs": [
    {
     "name": "stdout",
     "output_type": "stream",
     "text": [
      "30488×21 DataFrame. Omitted printing of 16 columns\n",
      "│ Row   │ age   │ job         │ marital  │ education           │ default │\n",
      "│       │ \u001b[90mInt64\u001b[39m │ \u001b[90mString\u001b[39m      │ \u001b[90mString\u001b[39m   │ \u001b[90mString\u001b[39m              │ \u001b[90mString\u001b[39m  │\n",
      "├───────┼───────┼─────────────┼──────────┼─────────────────────┼─────────┤\n",
      "│ 1     │ 56    │ housemaid   │ married  │ basic.4y            │ no      │\n",
      "│ 2     │ 37    │ services    │ married  │ high.school         │ no      │\n",
      "│ 3     │ 40    │ admin.      │ married  │ basic.6y            │ no      │\n",
      "│ 4     │ 56    │ services    │ married  │ high.school         │ no      │\n",
      "│ 5     │ 59    │ admin.      │ married  │ professional.course │ no      │\n",
      "│ 6     │ 24    │ technician  │ single   │ professional.course │ no      │\n",
      "│ 7     │ 25    │ services    │ single   │ high.school         │ no      │\n",
      "│ 8     │ 25    │ services    │ single   │ high.school         │ no      │\n",
      "│ 9     │ 29    │ blue-collar │ single   │ high.school         │ no      │\n",
      "│ 10    │ 57    │ housemaid   │ divorced │ basic.4y            │ no      │\n",
      "⋮\n",
      "│ 30478 │ 57    │ retired     │ married  │ professional.course │ no      │\n",
      "│ 30479 │ 62    │ retired     │ married  │ university.degree   │ no      │\n",
      "│ 30480 │ 64    │ retired     │ divorced │ professional.course │ no      │\n",
      "│ 30481 │ 36    │ admin.      │ married  │ university.degree   │ no      │\n",
      "│ 30482 │ 37    │ admin.      │ married  │ university.degree   │ no      │\n",
      "│ 30483 │ 29    │ unemployed  │ single   │ basic.4y            │ no      │\n",
      "│ 30484 │ 73    │ retired     │ married  │ professional.course │ no      │\n",
      "│ 30485 │ 46    │ blue-collar │ married  │ professional.course │ no      │\n",
      "│ 30486 │ 56    │ retired     │ married  │ university.degree   │ no      │\n",
      "│ 30487 │ 44    │ technician  │ married  │ professional.course │ no      │\n",
      "│ 30488 │ 74    │ retired     │ married  │ professional.course │ no      │"
     ]
    }
   ],
   "source": [
    "show(data)"
   ]
  },
  {
   "cell_type": "code",
   "execution_count": 298,
   "metadata": {},
   "outputs": [],
   "source": [
    "filter!(row -> row[:contact] != (\"unknown\"), data);"
   ]
  },
  {
   "cell_type": "code",
   "execution_count": 299,
   "metadata": {},
   "outputs": [
    {
     "name": "stdout",
     "output_type": "stream",
     "text": [
      "30488×21 DataFrame. Omitted printing of 16 columns\n",
      "│ Row   │ age   │ job         │ marital  │ education           │ default │\n",
      "│       │ \u001b[90mInt64\u001b[39m │ \u001b[90mString\u001b[39m      │ \u001b[90mString\u001b[39m   │ \u001b[90mString\u001b[39m              │ \u001b[90mString\u001b[39m  │\n",
      "├───────┼───────┼─────────────┼──────────┼─────────────────────┼─────────┤\n",
      "│ 1     │ 56    │ housemaid   │ married  │ basic.4y            │ no      │\n",
      "│ 2     │ 37    │ services    │ married  │ high.school         │ no      │\n",
      "│ 3     │ 40    │ admin.      │ married  │ basic.6y            │ no      │\n",
      "│ 4     │ 56    │ services    │ married  │ high.school         │ no      │\n",
      "│ 5     │ 59    │ admin.      │ married  │ professional.course │ no      │\n",
      "│ 6     │ 24    │ technician  │ single   │ professional.course │ no      │\n",
      "│ 7     │ 25    │ services    │ single   │ high.school         │ no      │\n",
      "│ 8     │ 25    │ services    │ single   │ high.school         │ no      │\n",
      "│ 9     │ 29    │ blue-collar │ single   │ high.school         │ no      │\n",
      "│ 10    │ 57    │ housemaid   │ divorced │ basic.4y            │ no      │\n",
      "⋮\n",
      "│ 30478 │ 57    │ retired     │ married  │ professional.course │ no      │\n",
      "│ 30479 │ 62    │ retired     │ married  │ university.degree   │ no      │\n",
      "│ 30480 │ 64    │ retired     │ divorced │ professional.course │ no      │\n",
      "│ 30481 │ 36    │ admin.      │ married  │ university.degree   │ no      │\n",
      "│ 30482 │ 37    │ admin.      │ married  │ university.degree   │ no      │\n",
      "│ 30483 │ 29    │ unemployed  │ single   │ basic.4y            │ no      │\n",
      "│ 30484 │ 73    │ retired     │ married  │ professional.course │ no      │\n",
      "│ 30485 │ 46    │ blue-collar │ married  │ professional.course │ no      │\n",
      "│ 30486 │ 56    │ retired     │ married  │ university.degree   │ no      │\n",
      "│ 30487 │ 44    │ technician  │ married  │ professional.course │ no      │\n",
      "│ 30488 │ 74    │ retired     │ married  │ professional.course │ no      │"
     ]
    }
   ],
   "source": [
    "show(data)"
   ]
  },
  {
   "cell_type": "code",
   "execution_count": 300,
   "metadata": {},
   "outputs": [],
   "source": [
    "filter!(row -> row[:month] != (\"unknown\"), data);"
   ]
  },
  {
   "cell_type": "code",
   "execution_count": 301,
   "metadata": {},
   "outputs": [],
   "source": [
    "filter!(row -> row[:day_of_week] != (\"unknown\"), data);"
   ]
  },
  {
   "cell_type": "code",
   "execution_count": 303,
   "metadata": {},
   "outputs": [],
   "source": [
    "filter!(row -> row[Symbol(\"emp.var.rate\")] != (\"nonexistent\"), data);"
   ]
  },
  {
   "cell_type": "code",
   "execution_count": 83,
   "metadata": {},
   "outputs": [
    {
     "data": {
      "text/plain": [
       "21-element Array{DataType,1}:\n",
       " Int64  \n",
       " String \n",
       " String \n",
       " String \n",
       " String \n",
       " String \n",
       " String \n",
       " String \n",
       " String \n",
       " String \n",
       " Int64  \n",
       " Int64  \n",
       " Int64  \n",
       " Int64  \n",
       " String \n",
       " Float64\n",
       " Float64\n",
       " Float64\n",
       " Float64\n",
       " Float64\n",
       " String "
      ]
     },
     "execution_count": 83,
     "metadata": {},
     "output_type": "execute_result"
    }
   ],
   "source": [
    "#check column types\n",
    "[eltype(col) for col = eachcol(data)]"
   ]
  },
  {
   "cell_type": "code",
   "execution_count": 305,
   "metadata": {},
   "outputs": [
    {
     "data": {
      "text/html": [
       "<table class=\"data-frame\"><thead><tr><th></th><th>age</th><th>job</th><th>marital</th><th>education</th><th>default</th><th>housing</th><th>loan</th><th>contact</th></tr><tr><th></th><th>Int64</th><th>String</th><th>String</th><th>String</th><th>String</th><th>String</th><th>String</th><th>String</th></tr></thead><tbody><p>30,488 rows × 20 columns (omitted printing of 12 columns)</p><tr><th>1</th><td>56</td><td>housemaid</td><td>married</td><td>basic.4y</td><td>no</td><td>no</td><td>no</td><td>telephone</td></tr><tr><th>2</th><td>37</td><td>services</td><td>married</td><td>high.school</td><td>no</td><td>yes</td><td>no</td><td>telephone</td></tr><tr><th>3</th><td>40</td><td>admin.</td><td>married</td><td>basic.6y</td><td>no</td><td>no</td><td>no</td><td>telephone</td></tr><tr><th>4</th><td>56</td><td>services</td><td>married</td><td>high.school</td><td>no</td><td>no</td><td>yes</td><td>telephone</td></tr><tr><th>5</th><td>59</td><td>admin.</td><td>married</td><td>professional.course</td><td>no</td><td>no</td><td>no</td><td>telephone</td></tr><tr><th>6</th><td>24</td><td>technician</td><td>single</td><td>professional.course</td><td>no</td><td>yes</td><td>no</td><td>telephone</td></tr><tr><th>7</th><td>25</td><td>services</td><td>single</td><td>high.school</td><td>no</td><td>yes</td><td>no</td><td>telephone</td></tr><tr><th>8</th><td>25</td><td>services</td><td>single</td><td>high.school</td><td>no</td><td>yes</td><td>no</td><td>telephone</td></tr><tr><th>9</th><td>29</td><td>blue-collar</td><td>single</td><td>high.school</td><td>no</td><td>no</td><td>yes</td><td>telephone</td></tr><tr><th>10</th><td>57</td><td>housemaid</td><td>divorced</td><td>basic.4y</td><td>no</td><td>yes</td><td>no</td><td>telephone</td></tr><tr><th>11</th><td>35</td><td>blue-collar</td><td>married</td><td>basic.6y</td><td>no</td><td>yes</td><td>no</td><td>telephone</td></tr><tr><th>12</th><td>35</td><td>blue-collar</td><td>married</td><td>basic.6y</td><td>no</td><td>yes</td><td>no</td><td>telephone</td></tr><tr><th>13</th><td>50</td><td>blue-collar</td><td>married</td><td>basic.9y</td><td>no</td><td>yes</td><td>yes</td><td>telephone</td></tr><tr><th>14</th><td>30</td><td>unemployed</td><td>married</td><td>high.school</td><td>no</td><td>no</td><td>no</td><td>telephone</td></tr><tr><th>15</th><td>55</td><td>retired</td><td>single</td><td>high.school</td><td>no</td><td>yes</td><td>no</td><td>telephone</td></tr><tr><th>16</th><td>41</td><td>technician</td><td>single</td><td>high.school</td><td>no</td><td>yes</td><td>no</td><td>telephone</td></tr><tr><th>17</th><td>37</td><td>admin.</td><td>married</td><td>high.school</td><td>no</td><td>yes</td><td>no</td><td>telephone</td></tr><tr><th>18</th><td>35</td><td>technician</td><td>married</td><td>university.degree</td><td>no</td><td>no</td><td>yes</td><td>telephone</td></tr><tr><th>19</th><td>54</td><td>blue-collar</td><td>divorced</td><td>basic.4y</td><td>no</td><td>no</td><td>no</td><td>telephone</td></tr><tr><th>20</th><td>34</td><td>services</td><td>married</td><td>high.school</td><td>no</td><td>no</td><td>no</td><td>telephone</td></tr><tr><th>21</th><td>52</td><td>technician</td><td>married</td><td>basic.9y</td><td>no</td><td>yes</td><td>no</td><td>telephone</td></tr><tr><th>22</th><td>41</td><td>admin.</td><td>married</td><td>university.degree</td><td>no</td><td>yes</td><td>no</td><td>telephone</td></tr><tr><th>23</th><td>56</td><td>technician</td><td>married</td><td>basic.4y</td><td>no</td><td>yes</td><td>no</td><td>telephone</td></tr><tr><th>24</th><td>32</td><td>entrepreneur</td><td>married</td><td>high.school</td><td>no</td><td>yes</td><td>no</td><td>telephone</td></tr><tr><th>25</th><td>38</td><td>admin.</td><td>single</td><td>professional.course</td><td>no</td><td>no</td><td>no</td><td>telephone</td></tr><tr><th>26</th><td>57</td><td>admin.</td><td>married</td><td>university.degree</td><td>no</td><td>no</td><td>yes</td><td>telephone</td></tr><tr><th>27</th><td>57</td><td>admin.</td><td>married</td><td>university.degree</td><td>no</td><td>yes</td><td>yes</td><td>telephone</td></tr><tr><th>28</th><td>40</td><td>blue-collar</td><td>married</td><td>basic.9y</td><td>no</td><td>no</td><td>yes</td><td>telephone</td></tr><tr><th>29</th><td>35</td><td>admin.</td><td>married</td><td>university.degree</td><td>no</td><td>yes</td><td>no</td><td>telephone</td></tr><tr><th>30</th><td>45</td><td>blue-collar</td><td>married</td><td>basic.9y</td><td>no</td><td>yes</td><td>no</td><td>telephone</td></tr><tr><th>&vellip;</th><td>&vellip;</td><td>&vellip;</td><td>&vellip;</td><td>&vellip;</td><td>&vellip;</td><td>&vellip;</td><td>&vellip;</td><td>&vellip;</td></tr></tbody></table>"
      ],
      "text/latex": [
       "\\begin{tabular}{r|ccccccccc}\n",
       "\t& age & job & marital & education & default & housing & loan & contact & \\\\\n",
       "\t\\hline\n",
       "\t& Int64 & String & String & String & String & String & String & String & \\\\\n",
       "\t\\hline\n",
       "\t1 & 56 & housemaid & married & basic.4y & no & no & no & telephone & $\\dots$ \\\\\n",
       "\t2 & 37 & services & married & high.school & no & yes & no & telephone & $\\dots$ \\\\\n",
       "\t3 & 40 & admin. & married & basic.6y & no & no & no & telephone & $\\dots$ \\\\\n",
       "\t4 & 56 & services & married & high.school & no & no & yes & telephone & $\\dots$ \\\\\n",
       "\t5 & 59 & admin. & married & professional.course & no & no & no & telephone & $\\dots$ \\\\\n",
       "\t6 & 24 & technician & single & professional.course & no & yes & no & telephone & $\\dots$ \\\\\n",
       "\t7 & 25 & services & single & high.school & no & yes & no & telephone & $\\dots$ \\\\\n",
       "\t8 & 25 & services & single & high.school & no & yes & no & telephone & $\\dots$ \\\\\n",
       "\t9 & 29 & blue-collar & single & high.school & no & no & yes & telephone & $\\dots$ \\\\\n",
       "\t10 & 57 & housemaid & divorced & basic.4y & no & yes & no & telephone & $\\dots$ \\\\\n",
       "\t11 & 35 & blue-collar & married & basic.6y & no & yes & no & telephone & $\\dots$ \\\\\n",
       "\t12 & 35 & blue-collar & married & basic.6y & no & yes & no & telephone & $\\dots$ \\\\\n",
       "\t13 & 50 & blue-collar & married & basic.9y & no & yes & yes & telephone & $\\dots$ \\\\\n",
       "\t14 & 30 & unemployed & married & high.school & no & no & no & telephone & $\\dots$ \\\\\n",
       "\t15 & 55 & retired & single & high.school & no & yes & no & telephone & $\\dots$ \\\\\n",
       "\t16 & 41 & technician & single & high.school & no & yes & no & telephone & $\\dots$ \\\\\n",
       "\t17 & 37 & admin. & married & high.school & no & yes & no & telephone & $\\dots$ \\\\\n",
       "\t18 & 35 & technician & married & university.degree & no & no & yes & telephone & $\\dots$ \\\\\n",
       "\t19 & 54 & blue-collar & divorced & basic.4y & no & no & no & telephone & $\\dots$ \\\\\n",
       "\t20 & 34 & services & married & high.school & no & no & no & telephone & $\\dots$ \\\\\n",
       "\t21 & 52 & technician & married & basic.9y & no & yes & no & telephone & $\\dots$ \\\\\n",
       "\t22 & 41 & admin. & married & university.degree & no & yes & no & telephone & $\\dots$ \\\\\n",
       "\t23 & 56 & technician & married & basic.4y & no & yes & no & telephone & $\\dots$ \\\\\n",
       "\t24 & 32 & entrepreneur & married & high.school & no & yes & no & telephone & $\\dots$ \\\\\n",
       "\t25 & 38 & admin. & single & professional.course & no & no & no & telephone & $\\dots$ \\\\\n",
       "\t26 & 57 & admin. & married & university.degree & no & no & yes & telephone & $\\dots$ \\\\\n",
       "\t27 & 57 & admin. & married & university.degree & no & yes & yes & telephone & $\\dots$ \\\\\n",
       "\t28 & 40 & blue-collar & married & basic.9y & no & no & yes & telephone & $\\dots$ \\\\\n",
       "\t29 & 35 & admin. & married & university.degree & no & yes & no & telephone & $\\dots$ \\\\\n",
       "\t30 & 45 & blue-collar & married & basic.9y & no & yes & no & telephone & $\\dots$ \\\\\n",
       "\t$\\dots$ & $\\dots$ & $\\dots$ & $\\dots$ & $\\dots$ & $\\dots$ & $\\dots$ & $\\dots$ & $\\dots$ &  \\\\\n",
       "\\end{tabular}\n"
      ],
      "text/plain": [
       "30488×20 DataFrame. Omitted printing of 15 columns\n",
       "│ Row   │ age   │ job         │ marital  │ education           │ default │\n",
       "│       │ \u001b[90mInt64\u001b[39m │ \u001b[90mString\u001b[39m      │ \u001b[90mString\u001b[39m   │ \u001b[90mString\u001b[39m              │ \u001b[90mString\u001b[39m  │\n",
       "├───────┼───────┼─────────────┼──────────┼─────────────────────┼─────────┤\n",
       "│ 1     │ 56    │ housemaid   │ married  │ basic.4y            │ no      │\n",
       "│ 2     │ 37    │ services    │ married  │ high.school         │ no      │\n",
       "│ 3     │ 40    │ admin.      │ married  │ basic.6y            │ no      │\n",
       "│ 4     │ 56    │ services    │ married  │ high.school         │ no      │\n",
       "│ 5     │ 59    │ admin.      │ married  │ professional.course │ no      │\n",
       "│ 6     │ 24    │ technician  │ single   │ professional.course │ no      │\n",
       "│ 7     │ 25    │ services    │ single   │ high.school         │ no      │\n",
       "│ 8     │ 25    │ services    │ single   │ high.school         │ no      │\n",
       "│ 9     │ 29    │ blue-collar │ single   │ high.school         │ no      │\n",
       "│ 10    │ 57    │ housemaid   │ divorced │ basic.4y            │ no      │\n",
       "⋮\n",
       "│ 30478 │ 57    │ retired     │ married  │ professional.course │ no      │\n",
       "│ 30479 │ 62    │ retired     │ married  │ university.degree   │ no      │\n",
       "│ 30480 │ 64    │ retired     │ divorced │ professional.course │ no      │\n",
       "│ 30481 │ 36    │ admin.      │ married  │ university.degree   │ no      │\n",
       "│ 30482 │ 37    │ admin.      │ married  │ university.degree   │ no      │\n",
       "│ 30483 │ 29    │ unemployed  │ single   │ basic.4y            │ no      │\n",
       "│ 30484 │ 73    │ retired     │ married  │ professional.course │ no      │\n",
       "│ 30485 │ 46    │ blue-collar │ married  │ professional.course │ no      │\n",
       "│ 30486 │ 56    │ retired     │ married  │ university.degree   │ no      │\n",
       "│ 30487 │ 44    │ technician  │ married  │ professional.course │ no      │\n",
       "│ 30488 │ 74    │ retired     │ married  │ professional.course │ no      │"
      ]
     },
     "execution_count": 305,
     "metadata": {},
     "output_type": "execute_result"
    }
   ],
   "source": [
    "#remove column with too much nonexixtent data\n",
    "select!(data, Not([Symbol(\"emp.var.rate\")]))"
   ]
  },
  {
   "cell_type": "code",
   "execution_count": 306,
   "metadata": {},
   "outputs": [],
   "source": [
    "using StatsModels"
   ]
  },
  {
   "cell_type": "code",
   "execution_count": 110,
   "metadata": {},
   "outputs": [
    {
     "name": "stdout",
     "output_type": "stream",
     "text": [
      "\u001b[32m\u001b[1m Resolving\u001b[22m\u001b[39m package versions...\n",
      "\u001b[32m\u001b[1m Installed\u001b[22m\u001b[39m Flux ───────── v0.10.3\n",
      "\u001b[32m\u001b[1m Installed\u001b[22m\u001b[39m CUDAapi ────── v2.1.0\n",
      "\u001b[32m\u001b[1m Installed\u001b[22m\u001b[39m GPUArrays ──── v2.0.1\n",
      "\u001b[32m\u001b[1m Installed\u001b[22m\u001b[39m CUDAdrv ────── v5.1.0\n",
      "\u001b[32m\u001b[1m Installed\u001b[22m\u001b[39m LLVM ───────── v1.4.0\n",
      "\u001b[32m\u001b[1m Installed\u001b[22m\u001b[39m CUDAnative ─── v2.7.0\n",
      "\u001b[32m\u001b[1m Installed\u001b[22m\u001b[39m Adapt ──────── v1.0.1\n",
      "\u001b[32m\u001b[1m Installed\u001b[22m\u001b[39m CEnum ──────── v0.2.0\n",
      "\u001b[32m\u001b[1m Installed\u001b[22m\u001b[39m TimerOutputs ─ v0.5.5\n",
      "\u001b[32m\u001b[1m Installed\u001b[22m\u001b[39m CuArrays ───── v1.6.0\n",
      "\u001b[32m\u001b[1m  Updating\u001b[22m\u001b[39m `C:\\Users\\WorkStation\\.juliapro\\JuliaPro_v1.2.0-2\\environments\\v1.2\\Project.toml`\n",
      " \u001b[90m [587475ba]\u001b[39m\u001b[92m + Flux v0.10.3\u001b[39m\n",
      "\u001b[32m\u001b[1m  Updating\u001b[22m\u001b[39m `C:\\Users\\WorkStation\\.juliapro\\JuliaPro_v1.2.0-2\\environments\\v1.2\\Manifest.toml`\n",
      " \u001b[90m [79e6a3ab]\u001b[39m\u001b[92m + Adapt v1.0.1\u001b[39m\n",
      " \u001b[90m [fa961155]\u001b[39m\u001b[92m + CEnum v0.2.0\u001b[39m\n",
      " \u001b[90m [3895d2a7]\u001b[39m\u001b[92m + CUDAapi v2.1.0\u001b[39m\n",
      " \u001b[90m [c5f51814]\u001b[39m\u001b[92m + CUDAdrv v5.1.0\u001b[39m\n",
      " \u001b[90m [be33ccc6]\u001b[39m\u001b[92m + CUDAnative v2.7.0\u001b[39m\n",
      " \u001b[90m [3da002f7]\u001b[39m\u001b[95m ↓ ColorTypes v0.10.3 ⇒ v0.9.1\u001b[39m\n",
      " \u001b[90m [5ae59095]\u001b[39m\u001b[95m ↓ Colors v0.12.0 ⇒ v0.11.2\u001b[39m\n",
      " \u001b[90m [3a865a2d]\u001b[39m\u001b[92m + CuArrays v1.6.0\u001b[39m\n",
      " \u001b[90m [587475ba]\u001b[39m\u001b[92m + Flux v0.10.3\u001b[39m\n",
      " \u001b[90m [0c68f7d7]\u001b[39m\u001b[92m + GPUArrays v2.0.1\u001b[39m\n",
      " \u001b[90m [4d00f742]\u001b[39m\u001b[93m ↑ GeometryTypes v0.7.6 ⇒ v0.7.10\u001b[39m\n",
      " \u001b[90m [929cbde3]\u001b[39m\u001b[92m + LLVM v1.4.0\u001b[39m\n",
      " \u001b[90m [a759f4b9]\u001b[39m\u001b[92m + TimerOutputs v0.5.5\u001b[39m\n"
     ]
    },
    {
     "name": "stderr",
     "output_type": "stream",
     "text": [
      "┌ Info: Precompiling Flux [587475ba-b771-5e3f-ad9e-33799f191a9c]\n",
      "└ @ Base loading.jl:1242\n",
      "┌ Warning: Module DataStructures with build ID 769556382972200 is missing from the cache.\n",
      "│ This may mean DataStructures [864edb3b-99cc-5e75-8d2d-829cb0a9cfe8] does not support precompilation but is imported by a module that does.\n",
      "└ @ Base loading.jl:1000\n",
      "┌ Warning: Module DataStructures with build ID 769556382972200 is missing from the cache.\n",
      "│ This may mean DataStructures [864edb3b-99cc-5e75-8d2d-829cb0a9cfe8] does not support precompilation but is imported by a module that does.\n",
      "└ @ Base loading.jl:1000\n",
      "┌ Warning: Module DataStructures with build ID 769556382972200 is missing from the cache.\n",
      "│ This may mean DataStructures [864edb3b-99cc-5e75-8d2d-829cb0a9cfe8] does not support precompilation but is imported by a module that does.\n",
      "└ @ Base loading.jl:1000\n",
      "┌ Warning: Module DataStructures with build ID 769556382972200 is missing from the cache.\n",
      "│ This may mean DataStructures [864edb3b-99cc-5e75-8d2d-829cb0a9cfe8] does not support precompilation but is imported by a module that does.\n",
      "└ @ Base loading.jl:1000\n",
      "┌ Info: Skipping precompilation since __precompile__(false). Importing Flux [587475ba-b771-5e3f-ad9e-33799f191a9c].\n",
      "└ @ Base loading.jl:1017\n",
      "┌ Info: Precompiling CuArrays [3a865a2d-5b23-5a0f-bc46-62713ec82fae]\n",
      "└ @ Base loading.jl:1242\n",
      "┌ Warning: Module DataStructures with build ID 769556382972200 is missing from the cache.\n",
      "│ This may mean DataStructures [864edb3b-99cc-5e75-8d2d-829cb0a9cfe8] does not support precompilation but is imported by a module that does.\n",
      "└ @ Base loading.jl:1000\n",
      "┌ Warning: Module DataStructures with build ID 769556382972200 is missing from the cache.\n",
      "│ This may mean DataStructures [864edb3b-99cc-5e75-8d2d-829cb0a9cfe8] does not support precompilation but is imported by a module that does.\n",
      "└ @ Base loading.jl:1000\n",
      "┌ Info: Skipping precompilation since __precompile__(false). Importing CuArrays [3a865a2d-5b23-5a0f-bc46-62713ec82fae].\n",
      "└ @ Base loading.jl:1017\n",
      "┌ Info: Precompiling CUDAnative [be33ccc6-a3ff-5ff2-a52e-74243cff1e17]\n",
      "└ @ Base loading.jl:1242\n",
      "┌ Warning: Module DataStructures with build ID 769556382972200 is missing from the cache.\n",
      "│ This may mean DataStructures [864edb3b-99cc-5e75-8d2d-829cb0a9cfe8] does not support precompilation but is imported by a module that does.\n",
      "└ @ Base loading.jl:1000\n",
      "┌ Info: Skipping precompilation since __precompile__(false). Importing CUDAnative [be33ccc6-a3ff-5ff2-a52e-74243cff1e17].\n",
      "└ @ Base loading.jl:1017\n",
      "┌ Info: CUDAnative.jl failed to initialized, GPU functionality unavailable (set JULIA_CUDA_SILENT or JULIA_CUDA_VERBOSE to silence or expand this message)\n",
      "└ @ CUDAnative C:\\Users\\WorkStation\\.juliapro\\JuliaPro_v1.2.0-2\\packages\\CUDAnative\\Phjco\\src\\CUDAnative.jl:141\n",
      "┌ Info: Precompiling GPUArrays [0c68f7d7-f131-5f86-a1c3-88cf8149b2d7]\n",
      "└ @ Base loading.jl:1242\n",
      "┌ Info: Precompiling CodecZlib [944b1d66-785c-5afd-91f1-9de20f533193]\n",
      "└ @ Base loading.jl:1242\n",
      "┌ Info: Recompiling stale cache file C:\\Users\\WorkStation\\.juliapro\\JuliaPro_v1.2.0-2\\compiled\\v1.2\\Colors\\NKjaT.ji for Colors [5ae59095-9a9b-59fe-a467-6f913c188581]\n",
      "└ @ Base loading.jl:1240\n",
      "WARNING: using Flux.data in module Main conflicts with an existing identifier.\n"
     ]
    }
   ],
   "source": [
    "#enable the flux framework\n",
    "using Pkg\n",
    "Pkg.add(\"Flux\")\n",
    "using Flux"
   ]
  },
  {
   "cell_type": "code",
   "execution_count": 135,
   "metadata": {},
   "outputs": [],
   "source": [
    "using DataFrames: CategoricalArrays"
   ]
  },
  {
   "cell_type": "code",
   "execution_count": 307,
   "metadata": {},
   "outputs": [
    {
     "data": {
      "text/html": [
       "<table class=\"data-frame\"><thead><tr><th></th><th>age</th><th>job</th><th>marital</th><th>education</th><th>default</th><th>housing</th><th>loan</th><th>contact</th></tr><tr><th></th><th>Int64</th><th>String</th><th>String</th><th>String</th><th>String</th><th>String</th><th>String</th><th>String</th></tr></thead><tbody><p>30,488 rows × 20 columns (omitted printing of 12 columns)</p><tr><th>1</th><td>56</td><td>housemaid</td><td>married</td><td>basic.4y</td><td>no</td><td>no</td><td>no</td><td>telephone</td></tr><tr><th>2</th><td>37</td><td>services</td><td>married</td><td>high.school</td><td>no</td><td>yes</td><td>no</td><td>telephone</td></tr><tr><th>3</th><td>40</td><td>admin.</td><td>married</td><td>basic.6y</td><td>no</td><td>no</td><td>no</td><td>telephone</td></tr><tr><th>4</th><td>56</td><td>services</td><td>married</td><td>high.school</td><td>no</td><td>no</td><td>yes</td><td>telephone</td></tr><tr><th>5</th><td>59</td><td>admin.</td><td>married</td><td>professional.course</td><td>no</td><td>no</td><td>no</td><td>telephone</td></tr><tr><th>6</th><td>24</td><td>technician</td><td>single</td><td>professional.course</td><td>no</td><td>yes</td><td>no</td><td>telephone</td></tr><tr><th>7</th><td>25</td><td>services</td><td>single</td><td>high.school</td><td>no</td><td>yes</td><td>no</td><td>telephone</td></tr><tr><th>8</th><td>25</td><td>services</td><td>single</td><td>high.school</td><td>no</td><td>yes</td><td>no</td><td>telephone</td></tr><tr><th>9</th><td>29</td><td>blue-collar</td><td>single</td><td>high.school</td><td>no</td><td>no</td><td>yes</td><td>telephone</td></tr><tr><th>10</th><td>57</td><td>housemaid</td><td>divorced</td><td>basic.4y</td><td>no</td><td>yes</td><td>no</td><td>telephone</td></tr><tr><th>11</th><td>35</td><td>blue-collar</td><td>married</td><td>basic.6y</td><td>no</td><td>yes</td><td>no</td><td>telephone</td></tr><tr><th>12</th><td>35</td><td>blue-collar</td><td>married</td><td>basic.6y</td><td>no</td><td>yes</td><td>no</td><td>telephone</td></tr><tr><th>13</th><td>50</td><td>blue-collar</td><td>married</td><td>basic.9y</td><td>no</td><td>yes</td><td>yes</td><td>telephone</td></tr><tr><th>14</th><td>30</td><td>unemployed</td><td>married</td><td>high.school</td><td>no</td><td>no</td><td>no</td><td>telephone</td></tr><tr><th>15</th><td>55</td><td>retired</td><td>single</td><td>high.school</td><td>no</td><td>yes</td><td>no</td><td>telephone</td></tr><tr><th>16</th><td>41</td><td>technician</td><td>single</td><td>high.school</td><td>no</td><td>yes</td><td>no</td><td>telephone</td></tr><tr><th>17</th><td>37</td><td>admin.</td><td>married</td><td>high.school</td><td>no</td><td>yes</td><td>no</td><td>telephone</td></tr><tr><th>18</th><td>35</td><td>technician</td><td>married</td><td>university.degree</td><td>no</td><td>no</td><td>yes</td><td>telephone</td></tr><tr><th>19</th><td>54</td><td>blue-collar</td><td>divorced</td><td>basic.4y</td><td>no</td><td>no</td><td>no</td><td>telephone</td></tr><tr><th>20</th><td>34</td><td>services</td><td>married</td><td>high.school</td><td>no</td><td>no</td><td>no</td><td>telephone</td></tr><tr><th>21</th><td>52</td><td>technician</td><td>married</td><td>basic.9y</td><td>no</td><td>yes</td><td>no</td><td>telephone</td></tr><tr><th>22</th><td>41</td><td>admin.</td><td>married</td><td>university.degree</td><td>no</td><td>yes</td><td>no</td><td>telephone</td></tr><tr><th>23</th><td>56</td><td>technician</td><td>married</td><td>basic.4y</td><td>no</td><td>yes</td><td>no</td><td>telephone</td></tr><tr><th>24</th><td>32</td><td>entrepreneur</td><td>married</td><td>high.school</td><td>no</td><td>yes</td><td>no</td><td>telephone</td></tr><tr><th>25</th><td>38</td><td>admin.</td><td>single</td><td>professional.course</td><td>no</td><td>no</td><td>no</td><td>telephone</td></tr><tr><th>26</th><td>57</td><td>admin.</td><td>married</td><td>university.degree</td><td>no</td><td>no</td><td>yes</td><td>telephone</td></tr><tr><th>27</th><td>57</td><td>admin.</td><td>married</td><td>university.degree</td><td>no</td><td>yes</td><td>yes</td><td>telephone</td></tr><tr><th>28</th><td>40</td><td>blue-collar</td><td>married</td><td>basic.9y</td><td>no</td><td>no</td><td>yes</td><td>telephone</td></tr><tr><th>29</th><td>35</td><td>admin.</td><td>married</td><td>university.degree</td><td>no</td><td>yes</td><td>no</td><td>telephone</td></tr><tr><th>30</th><td>45</td><td>blue-collar</td><td>married</td><td>basic.9y</td><td>no</td><td>yes</td><td>no</td><td>telephone</td></tr><tr><th>&vellip;</th><td>&vellip;</td><td>&vellip;</td><td>&vellip;</td><td>&vellip;</td><td>&vellip;</td><td>&vellip;</td><td>&vellip;</td><td>&vellip;</td></tr></tbody></table>"
      ],
      "text/latex": [
       "\\begin{tabular}{r|ccccccccc}\n",
       "\t& age & job & marital & education & default & housing & loan & contact & \\\\\n",
       "\t\\hline\n",
       "\t& Int64 & String & String & String & String & String & String & String & \\\\\n",
       "\t\\hline\n",
       "\t1 & 56 & housemaid & married & basic.4y & no & no & no & telephone & $\\dots$ \\\\\n",
       "\t2 & 37 & services & married & high.school & no & yes & no & telephone & $\\dots$ \\\\\n",
       "\t3 & 40 & admin. & married & basic.6y & no & no & no & telephone & $\\dots$ \\\\\n",
       "\t4 & 56 & services & married & high.school & no & no & yes & telephone & $\\dots$ \\\\\n",
       "\t5 & 59 & admin. & married & professional.course & no & no & no & telephone & $\\dots$ \\\\\n",
       "\t6 & 24 & technician & single & professional.course & no & yes & no & telephone & $\\dots$ \\\\\n",
       "\t7 & 25 & services & single & high.school & no & yes & no & telephone & $\\dots$ \\\\\n",
       "\t8 & 25 & services & single & high.school & no & yes & no & telephone & $\\dots$ \\\\\n",
       "\t9 & 29 & blue-collar & single & high.school & no & no & yes & telephone & $\\dots$ \\\\\n",
       "\t10 & 57 & housemaid & divorced & basic.4y & no & yes & no & telephone & $\\dots$ \\\\\n",
       "\t11 & 35 & blue-collar & married & basic.6y & no & yes & no & telephone & $\\dots$ \\\\\n",
       "\t12 & 35 & blue-collar & married & basic.6y & no & yes & no & telephone & $\\dots$ \\\\\n",
       "\t13 & 50 & blue-collar & married & basic.9y & no & yes & yes & telephone & $\\dots$ \\\\\n",
       "\t14 & 30 & unemployed & married & high.school & no & no & no & telephone & $\\dots$ \\\\\n",
       "\t15 & 55 & retired & single & high.school & no & yes & no & telephone & $\\dots$ \\\\\n",
       "\t16 & 41 & technician & single & high.school & no & yes & no & telephone & $\\dots$ \\\\\n",
       "\t17 & 37 & admin. & married & high.school & no & yes & no & telephone & $\\dots$ \\\\\n",
       "\t18 & 35 & technician & married & university.degree & no & no & yes & telephone & $\\dots$ \\\\\n",
       "\t19 & 54 & blue-collar & divorced & basic.4y & no & no & no & telephone & $\\dots$ \\\\\n",
       "\t20 & 34 & services & married & high.school & no & no & no & telephone & $\\dots$ \\\\\n",
       "\t21 & 52 & technician & married & basic.9y & no & yes & no & telephone & $\\dots$ \\\\\n",
       "\t22 & 41 & admin. & married & university.degree & no & yes & no & telephone & $\\dots$ \\\\\n",
       "\t23 & 56 & technician & married & basic.4y & no & yes & no & telephone & $\\dots$ \\\\\n",
       "\t24 & 32 & entrepreneur & married & high.school & no & yes & no & telephone & $\\dots$ \\\\\n",
       "\t25 & 38 & admin. & single & professional.course & no & no & no & telephone & $\\dots$ \\\\\n",
       "\t26 & 57 & admin. & married & university.degree & no & no & yes & telephone & $\\dots$ \\\\\n",
       "\t27 & 57 & admin. & married & university.degree & no & yes & yes & telephone & $\\dots$ \\\\\n",
       "\t28 & 40 & blue-collar & married & basic.9y & no & no & yes & telephone & $\\dots$ \\\\\n",
       "\t29 & 35 & admin. & married & university.degree & no & yes & no & telephone & $\\dots$ \\\\\n",
       "\t30 & 45 & blue-collar & married & basic.9y & no & yes & no & telephone & $\\dots$ \\\\\n",
       "\t$\\dots$ & $\\dots$ & $\\dots$ & $\\dots$ & $\\dots$ & $\\dots$ & $\\dots$ & $\\dots$ & $\\dots$ &  \\\\\n",
       "\\end{tabular}\n"
      ],
      "text/plain": [
       "30488×20 DataFrame. Omitted printing of 15 columns\n",
       "│ Row   │ age   │ job         │ marital  │ education           │ default │\n",
       "│       │ \u001b[90mInt64\u001b[39m │ \u001b[90mString\u001b[39m      │ \u001b[90mString\u001b[39m   │ \u001b[90mString\u001b[39m              │ \u001b[90mString\u001b[39m  │\n",
       "├───────┼───────┼─────────────┼──────────┼─────────────────────┼─────────┤\n",
       "│ 1     │ 56    │ housemaid   │ married  │ basic.4y            │ no      │\n",
       "│ 2     │ 37    │ services    │ married  │ high.school         │ no      │\n",
       "│ 3     │ 40    │ admin.      │ married  │ basic.6y            │ no      │\n",
       "│ 4     │ 56    │ services    │ married  │ high.school         │ no      │\n",
       "│ 5     │ 59    │ admin.      │ married  │ professional.course │ no      │\n",
       "│ 6     │ 24    │ technician  │ single   │ professional.course │ no      │\n",
       "│ 7     │ 25    │ services    │ single   │ high.school         │ no      │\n",
       "│ 8     │ 25    │ services    │ single   │ high.school         │ no      │\n",
       "│ 9     │ 29    │ blue-collar │ single   │ high.school         │ no      │\n",
       "│ 10    │ 57    │ housemaid   │ divorced │ basic.4y            │ no      │\n",
       "⋮\n",
       "│ 30478 │ 57    │ retired     │ married  │ professional.course │ no      │\n",
       "│ 30479 │ 62    │ retired     │ married  │ university.degree   │ no      │\n",
       "│ 30480 │ 64    │ retired     │ divorced │ professional.course │ no      │\n",
       "│ 30481 │ 36    │ admin.      │ married  │ university.degree   │ no      │\n",
       "│ 30482 │ 37    │ admin.      │ married  │ university.degree   │ no      │\n",
       "│ 30483 │ 29    │ unemployed  │ single   │ basic.4y            │ no      │\n",
       "│ 30484 │ 73    │ retired     │ married  │ professional.course │ no      │\n",
       "│ 30485 │ 46    │ blue-collar │ married  │ professional.course │ no      │\n",
       "│ 30486 │ 56    │ retired     │ married  │ university.degree   │ no      │\n",
       "│ 30487 │ 44    │ technician  │ married  │ professional.course │ no      │\n",
       "│ 30488 │ 74    │ retired     │ married  │ professional.course │ no      │"
      ]
     },
     "execution_count": 307,
     "metadata": {},
     "output_type": "execute_result"
    }
   ],
   "source": [
    "#assinged the data to variable for insurance \n",
    "datatest = data"
   ]
  },
  {
   "cell_type": "code",
   "execution_count": 309,
   "metadata": {},
   "outputs": [
    {
     "data": {
      "text/plain": [
       "30488-element PooledArrays.PooledArray{Any,UInt32,1,Array{UInt32,1}}:\n",
       "  \"no\"\n",
       "  \"no\"\n",
       "  \"no\"\n",
       "  \"no\"\n",
       "  \"no\"\n",
       "  \"no\"\n",
       "  \"no\"\n",
       "  \"no\"\n",
       "  \"no\"\n",
       "  \"no\"\n",
       "  \"no\"\n",
       "  \"no\"\n",
       "  \"no\"\n",
       " ⋮    \n",
       "  \"no\"\n",
       "  \"no\"\n",
       " 1    \n",
       "  \"no\"\n",
       "  \"no\"\n",
       " 1    \n",
       "  \"no\"\n",
       " 1    \n",
       "  \"no\"\n",
       "  \"no\"\n",
       " 1    \n",
       "  \"no\""
      ]
     },
     "execution_count": 309,
     "metadata": {},
     "output_type": "execute_result"
    }
   ],
   "source": [
    "#changing the target variable to binary\n",
    "datatest.y = replace(datatest.y, \"yes\" => 1)"
   ]
  },
  {
   "cell_type": "code",
   "execution_count": 310,
   "metadata": {},
   "outputs": [
    {
     "data": {
      "text/plain": [
       "30488-element PooledArrays.PooledArray{Any,UInt32,1,Array{UInt32,1}}:\n",
       " 0\n",
       " 0\n",
       " 0\n",
       " 0\n",
       " 0\n",
       " 0\n",
       " 0\n",
       " 0\n",
       " 0\n",
       " 0\n",
       " 0\n",
       " 0\n",
       " 0\n",
       " ⋮\n",
       " 0\n",
       " 0\n",
       " 1\n",
       " 0\n",
       " 0\n",
       " 1\n",
       " 0\n",
       " 1\n",
       " 0\n",
       " 0\n",
       " 1\n",
       " 0"
      ]
     },
     "execution_count": 310,
     "metadata": {},
     "output_type": "execute_result"
    }
   ],
   "source": [
    "datatest.y = replace(datatest.y, \"no\" => 0)"
   ]
  },
  {
   "cell_type": "code",
   "execution_count": 311,
   "metadata": {},
   "outputs": [
    {
     "name": "stdout",
     "output_type": "stream",
     "text": [
      "30488×20 DataFrame\n",
      "│ Row   │ age   │ job         │ marital  │ education           │ default │\n",
      "│       │ \u001b[90mInt64\u001b[39m │ \u001b[90mString\u001b[39m      │ \u001b[90mString\u001b[39m   │ \u001b[90mString\u001b[39m              │ \u001b[90mString\u001b[39m  │\n",
      "├───────┼───────┼─────────────┼──────────┼─────────────────────┼─────────┤\n",
      "│ 1     │ 56    │ housemaid   │ married  │ basic.4y            │ no      │\n",
      "│ 2     │ 37    │ services    │ married  │ high.school         │ no      │\n",
      "│ 3     │ 40    │ admin.      │ married  │ basic.6y            │ no      │\n",
      "│ 4     │ 56    │ services    │ married  │ high.school         │ no      │\n",
      "│ 5     │ 59    │ admin.      │ married  │ professional.course │ no      │\n",
      "│ 6     │ 24    │ technician  │ single   │ professional.course │ no      │\n",
      "│ 7     │ 25    │ services    │ single   │ high.school         │ no      │\n",
      "│ 8     │ 25    │ services    │ single   │ high.school         │ no      │\n",
      "│ 9     │ 29    │ blue-collar │ single   │ high.school         │ no      │\n",
      "│ 10    │ 57    │ housemaid   │ divorced │ basic.4y            │ no      │\n",
      "⋮\n",
      "│ 30478 │ 57    │ retired     │ married  │ professional.course │ no      │\n",
      "│ 30479 │ 62    │ retired     │ married  │ university.degree   │ no      │\n",
      "│ 30480 │ 64    │ retired     │ divorced │ professional.course │ no      │\n",
      "│ 30481 │ 36    │ admin.      │ married  │ university.degree   │ no      │\n",
      "│ 30482 │ 37    │ admin.      │ married  │ university.degree   │ no      │\n",
      "│ 30483 │ 29    │ unemployed  │ single   │ basic.4y            │ no      │\n",
      "│ 30484 │ 73    │ retired     │ married  │ professional.course │ no      │\n",
      "│ 30485 │ 46    │ blue-collar │ married  │ professional.course │ no      │\n",
      "│ 30486 │ 56    │ retired     │ married  │ university.degree   │ no      │\n",
      "│ 30487 │ 44    │ technician  │ married  │ professional.course │ no      │\n",
      "│ 30488 │ 74    │ retired     │ married  │ professional.course │ no      │\n",
      "\n",
      "│ Row   │ housing │ loan   │ contact   │ month  │ day_of_week │ duration │\n",
      "│       │ \u001b[90mString\u001b[39m  │ \u001b[90mString\u001b[39m │ \u001b[90mString\u001b[39m    │ \u001b[90mString\u001b[39m │ \u001b[90mString\u001b[39m      │ \u001b[90mInt64\u001b[39m    │\n",
      "├───────┼─────────┼────────┼───────────┼────────┼─────────────┼──────────┤\n",
      "│ 1     │ no      │ no     │ telephone │ may    │ mon         │ 261      │\n",
      "│ 2     │ yes     │ no     │ telephone │ may    │ mon         │ 226      │\n",
      "│ 3     │ no      │ no     │ telephone │ may    │ mon         │ 151      │\n",
      "│ 4     │ no      │ yes    │ telephone │ may    │ mon         │ 307      │\n",
      "│ 5     │ no      │ no     │ telephone │ may    │ mon         │ 139      │\n",
      "│ 6     │ yes     │ no     │ telephone │ may    │ mon         │ 380      │\n",
      "│ 7     │ yes     │ no     │ telephone │ may    │ mon         │ 50       │\n",
      "│ 8     │ yes     │ no     │ telephone │ may    │ mon         │ 222      │\n",
      "│ 9     │ no      │ yes    │ telephone │ may    │ mon         │ 137      │\n",
      "│ 10    │ yes     │ no     │ telephone │ may    │ mon         │ 293      │\n",
      "⋮\n",
      "│ 30478 │ yes     │ no     │ cellular  │ nov    │ thu         │ 124      │\n",
      "│ 30479 │ no      │ no     │ cellular  │ nov    │ thu         │ 483      │\n",
      "│ 30480 │ yes     │ no     │ cellular  │ nov    │ fri         │ 151      │\n",
      "│ 30481 │ no      │ no     │ cellular  │ nov    │ fri         │ 254      │\n",
      "│ 30482 │ yes     │ no     │ cellular  │ nov    │ fri         │ 281      │\n",
      "│ 30483 │ yes     │ no     │ cellular  │ nov    │ fri         │ 112      │\n",
      "│ 30484 │ yes     │ no     │ cellular  │ nov    │ fri         │ 334      │\n",
      "│ 30485 │ no      │ no     │ cellular  │ nov    │ fri         │ 383      │\n",
      "│ 30486 │ yes     │ no     │ cellular  │ nov    │ fri         │ 189      │\n",
      "│ 30487 │ no      │ no     │ cellular  │ nov    │ fri         │ 442      │\n",
      "│ 30488 │ yes     │ no     │ cellular  │ nov    │ fri         │ 239      │\n",
      "\n",
      "│ Row   │ campaign │ pdays │ previous │ poutcome    │ cons.price.idx │\n",
      "│       │ \u001b[90mInt64\u001b[39m    │ \u001b[90mInt64\u001b[39m │ \u001b[90mInt64\u001b[39m    │ \u001b[90mString\u001b[39m      │ \u001b[90mFloat64\u001b[39m        │\n",
      "├───────┼──────────┼───────┼──────────┼─────────────┼────────────────┤\n",
      "│ 1     │ 1        │ 999   │ 0        │ nonexistent │ 93.994         │\n",
      "│ 2     │ 1        │ 999   │ 0        │ nonexistent │ 93.994         │\n",
      "│ 3     │ 1        │ 999   │ 0        │ nonexistent │ 93.994         │\n",
      "│ 4     │ 1        │ 999   │ 0        │ nonexistent │ 93.994         │\n",
      "│ 5     │ 1        │ 999   │ 0        │ nonexistent │ 93.994         │\n",
      "│ 6     │ 1        │ 999   │ 0        │ nonexistent │ 93.994         │\n",
      "│ 7     │ 1        │ 999   │ 0        │ nonexistent │ 93.994         │\n",
      "│ 8     │ 1        │ 999   │ 0        │ nonexistent │ 93.994         │\n",
      "│ 9     │ 1        │ 999   │ 0        │ nonexistent │ 93.994         │\n",
      "│ 10    │ 1        │ 999   │ 0        │ nonexistent │ 93.994         │\n",
      "⋮\n",
      "│ 30478 │ 6        │ 999   │ 0        │ nonexistent │ 94.767         │\n",
      "│ 30479 │ 2        │ 6     │ 3        │ success     │ 94.767         │\n",
      "│ 30480 │ 3        │ 999   │ 0        │ nonexistent │ 94.767         │\n",
      "│ 30481 │ 2        │ 999   │ 0        │ nonexistent │ 94.767         │\n",
      "│ 30482 │ 1        │ 999   │ 0        │ nonexistent │ 94.767         │\n",
      "│ 30483 │ 1        │ 9     │ 1        │ success     │ 94.767         │\n",
      "│ 30484 │ 1        │ 999   │ 0        │ nonexistent │ 94.767         │\n",
      "│ 30485 │ 1        │ 999   │ 0        │ nonexistent │ 94.767         │\n",
      "│ 30486 │ 2        │ 999   │ 0        │ nonexistent │ 94.767         │\n",
      "│ 30487 │ 1        │ 999   │ 0        │ nonexistent │ 94.767         │\n",
      "│ 30488 │ 3        │ 999   │ 1        │ failure     │ 94.767         │\n",
      "\n",
      "│ Row   │ cons.conf.idx │ euribor3m │ nr.employed │ y   │\n",
      "│       │ \u001b[90mFloat64\u001b[39m       │ \u001b[90mFloat64\u001b[39m   │ \u001b[90mFloat64\u001b[39m     │ \u001b[90mAny\u001b[39m │\n",
      "├───────┼───────────────┼───────────┼─────────────┼─────┤\n",
      "│ 1     │ -36.4         │ 4.857     │ 5191.0      │ 0   │\n",
      "│ 2     │ -36.4         │ 4.857     │ 5191.0      │ 0   │\n",
      "│ 3     │ -36.4         │ 4.857     │ 5191.0      │ 0   │\n",
      "│ 4     │ -36.4         │ 4.857     │ 5191.0      │ 0   │\n",
      "│ 5     │ -36.4         │ 4.857     │ 5191.0      │ 0   │\n",
      "│ 6     │ -36.4         │ 4.857     │ 5191.0      │ 0   │\n",
      "│ 7     │ -36.4         │ 4.857     │ 5191.0      │ 0   │\n",
      "│ 8     │ -36.4         │ 4.857     │ 5191.0      │ 0   │\n",
      "│ 9     │ -36.4         │ 4.857     │ 5191.0      │ 0   │\n",
      "│ 10    │ -36.4         │ 4.857     │ 5191.0      │ 0   │\n",
      "⋮\n",
      "│ 30478 │ -50.8         │ 1.031     │ 4963.6      │ 0   │\n",
      "│ 30479 │ -50.8         │ 1.031     │ 4963.6      │ 1   │\n",
      "│ 30480 │ -50.8         │ 1.028     │ 4963.6      │ 0   │\n",
      "│ 30481 │ -50.8         │ 1.028     │ 4963.6      │ 0   │\n",
      "│ 30482 │ -50.8         │ 1.028     │ 4963.6      │ 1   │\n",
      "│ 30483 │ -50.8         │ 1.028     │ 4963.6      │ 0   │\n",
      "│ 30484 │ -50.8         │ 1.028     │ 4963.6      │ 1   │\n",
      "│ 30485 │ -50.8         │ 1.028     │ 4963.6      │ 0   │\n",
      "│ 30486 │ -50.8         │ 1.028     │ 4963.6      │ 0   │\n",
      "│ 30487 │ -50.8         │ 1.028     │ 4963.6      │ 1   │\n",
      "│ 30488 │ -50.8         │ 1.028     │ 4963.6      │ 0   │"
     ]
    }
   ],
   "source": [
    "show(datatest, allrows=false, allcols=true)"
   ]
  },
  {
   "cell_type": "code",
   "execution_count": 312,
   "metadata": {},
   "outputs": [
    {
     "data": {
      "text/plain": [
       "30488-element Array{Float64,1}:\n",
       " 0.0\n",
       " 0.0\n",
       " 0.0\n",
       " 0.0\n",
       " 0.0\n",
       " 0.0\n",
       " 0.0\n",
       " 0.0\n",
       " 0.0\n",
       " 0.0\n",
       " 0.0\n",
       " 0.0\n",
       " 0.0\n",
       " ⋮  \n",
       " 0.0\n",
       " 0.0\n",
       " 1.0\n",
       " 0.0\n",
       " 0.0\n",
       " 1.0\n",
       " 0.0\n",
       " 1.0\n",
       " 0.0\n",
       " 0.0\n",
       " 1.0\n",
       " 0.0"
      ]
     },
     "execution_count": 312,
     "metadata": {},
     "output_type": "execute_result"
    }
   ],
   "source": [
    "#changing target into float for model\n",
    "datatest[!,:y] = convert.(Float64,datatest[!,:y])"
   ]
  },
  {
   "cell_type": "code",
   "execution_count": 313,
   "metadata": {},
   "outputs": [
    {
     "data": {
      "text/plain": [
       "30488×20 Array{Any,2}:\n",
       " 56  \"housemaid\"    \"married\"   …  93.994  -36.4  4.857  5191.0  0.0\n",
       " 37  \"services\"     \"married\"      93.994  -36.4  4.857  5191.0  0.0\n",
       " 40  \"admin.\"       \"married\"      93.994  -36.4  4.857  5191.0  0.0\n",
       " 56  \"services\"     \"married\"      93.994  -36.4  4.857  5191.0  0.0\n",
       " 59  \"admin.\"       \"married\"      93.994  -36.4  4.857  5191.0  0.0\n",
       " 24  \"technician\"   \"single\"    …  93.994  -36.4  4.857  5191.0  0.0\n",
       " 25  \"services\"     \"single\"       93.994  -36.4  4.857  5191.0  0.0\n",
       " 25  \"services\"     \"single\"       93.994  -36.4  4.857  5191.0  0.0\n",
       " 29  \"blue-collar\"  \"single\"       93.994  -36.4  4.857  5191.0  0.0\n",
       " 57  \"housemaid\"    \"divorced\"     93.994  -36.4  4.857  5191.0  0.0\n",
       " 35  \"blue-collar\"  \"married\"   …  93.994  -36.4  4.857  5191.0  0.0\n",
       " 35  \"blue-collar\"  \"married\"      93.994  -36.4  4.857  5191.0  0.0\n",
       " 50  \"blue-collar\"  \"married\"      93.994  -36.4  4.857  5191.0  0.0\n",
       "  ⋮                             ⋱   ⋮                               \n",
       " 38  \"housemaid\"    \"divorced\"     94.767  -50.8  1.031  4963.6  0.0\n",
       " 57  \"retired\"      \"married\"      94.767  -50.8  1.031  4963.6  0.0\n",
       " 62  \"retired\"      \"married\"      94.767  -50.8  1.031  4963.6  1.0\n",
       " 64  \"retired\"      \"divorced\"     94.767  -50.8  1.028  4963.6  0.0\n",
       " 36  \"admin.\"       \"married\"   …  94.767  -50.8  1.028  4963.6  0.0\n",
       " 37  \"admin.\"       \"married\"      94.767  -50.8  1.028  4963.6  1.0\n",
       " 29  \"unemployed\"   \"single\"       94.767  -50.8  1.028  4963.6  0.0\n",
       " 73  \"retired\"      \"married\"      94.767  -50.8  1.028  4963.6  1.0\n",
       " 46  \"blue-collar\"  \"married\"      94.767  -50.8  1.028  4963.6  0.0\n",
       " 56  \"retired\"      \"married\"   …  94.767  -50.8  1.028  4963.6  0.0\n",
       " 44  \"technician\"   \"married\"      94.767  -50.8  1.028  4963.6  1.0\n",
       " 74  \"retired\"      \"married\"      94.767  -50.8  1.028  4963.6  0.0"
      ]
     },
     "execution_count": 313,
     "metadata": {},
     "output_type": "execute_result"
    }
   ],
   "source": [
    "#converting data into a matrix\n",
    "datamatrix = convert(Matrix,datatest)"
   ]
  },
  {
   "cell_type": "code",
   "execution_count": 205,
   "metadata": {},
   "outputs": [
    {
     "name": "stdout",
     "output_type": "stream",
     "text": [
      "1\n",
      "2\n",
      "3\n",
      "4\n",
      "5\n",
      "6\n",
      "7\n",
      "8\n",
      "9\n",
      "10\n",
      "11\n",
      "12\n",
      "13\n",
      "14\n",
      "15\n",
      "16\n",
      "17\n",
      "18\n"
     ]
    }
   ],
   "source": [
    "#iterating through matrix\n",
    "size(datamatrix)[2]\n",
    "for i = 1:(size(datamatrix)[2]-2)\n",
    "    uniquee = unique(datamatrix[:,i])\n",
    "    for j = 1:size(datamatrix)[1]\n",
    "        for k = 1:size(uniquee)[1]\n",
    "            if datamatrix[j,i] == uniquee[k]\n",
    "                datamatrix[j,i] = Int(k)\n",
    "            end\n",
    "        end\n",
    "    end\n",
    "    println(i)\n",
    "end"
   ]
  },
  {
   "cell_type": "code",
   "execution_count": 457,
   "metadata": {},
   "outputs": [
    {
     "data": {
      "text/plain": [
       "30488×5 Array{Any,2}:\n",
       " 93.994  -36.4  4.857  5191.0  0.0\n",
       " 93.994  -36.4  4.857  5191.0  0.0\n",
       " 93.994  -36.4  4.857  5191.0  0.0\n",
       " 93.994  -36.4  4.857  5191.0  0.0\n",
       " 93.994  -36.4  4.857  5191.0  0.0\n",
       " 93.994  -36.4  4.857  5191.0  0.0\n",
       " 93.994  -36.4  4.857  5191.0  0.0\n",
       " 93.994  -36.4  4.857  5191.0  0.0\n",
       " 93.994  -36.4  4.857  5191.0  0.0\n",
       " 93.994  -36.4  4.857  5191.0  0.0\n",
       " 93.994  -36.4  4.857  5191.0  0.0\n",
       " 93.994  -36.4  4.857  5191.0  0.0\n",
       " 93.994  -36.4  4.857  5191.0  0.0\n",
       "  ⋮                               \n",
       " 94.767  -50.8  1.031  4963.6  0.0\n",
       " 94.767  -50.8  1.031  4963.6  0.0\n",
       " 94.767  -50.8  1.031  4963.6  1.0\n",
       " 94.767  -50.8  1.028  4963.6  0.0\n",
       " 94.767  -50.8  1.028  4963.6  0.0\n",
       " 94.767  -50.8  1.028  4963.6  1.0\n",
       " 94.767  -50.8  1.028  4963.6  0.0\n",
       " 94.767  -50.8  1.028  4963.6  1.0\n",
       " 94.767  -50.8  1.028  4963.6  0.0\n",
       " 94.767  -50.8  1.028  4963.6  0.0\n",
       " 94.767  -50.8  1.028  4963.6  1.0\n",
       " 94.767  -50.8  1.028  4963.6  0.0"
      ]
     },
     "execution_count": 457,
     "metadata": {},
     "output_type": "execute_result"
    }
   ],
   "source": [
    "munet = datamatrix[:,end-4:end]"
   ]
  },
  {
   "cell_type": "code",
   "execution_count": 169,
   "metadata": {},
   "outputs": [],
   "source": [
    "using Flux\n",
    "using Statistics\n",
    "\n",
    "using Flux.NNlib\n",
    "using Flux: throttle, normalise\n",
    "using Flux: binarycrossentropy\n",
    "using Base.Iterators: repeated\n",
    "using Flux: @epochs"
   ]
  },
  {
   "cell_type": "code",
   "execution_count": 458,
   "metadata": {},
   "outputs": [
    {
     "data": {
      "text/plain": [
       "30488×5 Array{Any,2}:\n",
       " 93.994  -36.4  4.857  5191.0  0.0\n",
       " 93.994  -36.4  4.857  5191.0  0.0\n",
       " 93.994  -36.4  4.857  5191.0  0.0\n",
       " 93.994  -36.4  4.857  5191.0  0.0\n",
       " 93.994  -36.4  4.857  5191.0  0.0\n",
       " 93.994  -36.4  4.857  5191.0  0.0\n",
       " 93.994  -36.4  4.857  5191.0  0.0\n",
       " 93.994  -36.4  4.857  5191.0  0.0\n",
       " 93.994  -36.4  4.857  5191.0  0.0\n",
       " 93.994  -36.4  4.857  5191.0  0.0\n",
       " 93.994  -36.4  4.857  5191.0  0.0\n",
       " 93.994  -36.4  4.857  5191.0  0.0\n",
       " 93.994  -36.4  4.857  5191.0  0.0\n",
       "  ⋮                               \n",
       " 94.767  -50.8  1.031  4963.6  0.0\n",
       " 94.767  -50.8  1.031  4963.6  0.0\n",
       " 94.767  -50.8  1.031  4963.6  1.0\n",
       " 94.767  -50.8  1.028  4963.6  0.0\n",
       " 94.767  -50.8  1.028  4963.6  0.0\n",
       " 94.767  -50.8  1.028  4963.6  1.0\n",
       " 94.767  -50.8  1.028  4963.6  0.0\n",
       " 94.767  -50.8  1.028  4963.6  1.0\n",
       " 94.767  -50.8  1.028  4963.6  0.0\n",
       " 94.767  -50.8  1.028  4963.6  0.0\n",
       " 94.767  -50.8  1.028  4963.6  1.0\n",
       " 94.767  -50.8  1.028  4963.6  0.0"
      ]
     },
     "execution_count": 458,
     "metadata": {},
     "output_type": "execute_result"
    }
   ],
   "source": [
    "munet"
   ]
  },
  {
   "cell_type": "code",
   "execution_count": 459,
   "metadata": {},
   "outputs": [
    {
     "data": {
      "text/plain": [
       "30488×5 Named Array{Any,2}\n",
       "A ╲ B │      1       2       3       4       5\n",
       "──────┼───────────────────────────────────────\n",
       "1     │ 93.994   -36.4   4.857  5191.0     0.0\n",
       "2     │ 93.994   -36.4   4.857  5191.0     0.0\n",
       "3     │ 93.994   -36.4   4.857  5191.0     0.0\n",
       "4     │ 93.994   -36.4   4.857  5191.0     0.0\n",
       "5     │ 93.994   -36.4   4.857  5191.0     0.0\n",
       "6     │ 93.994   -36.4   4.857  5191.0     0.0\n",
       "7     │ 93.994   -36.4   4.857  5191.0     0.0\n",
       "8     │ 93.994   -36.4   4.857  5191.0     0.0\n",
       "9     │ 93.994   -36.4   4.857  5191.0     0.0\n",
       "10    │ 93.994   -36.4   4.857  5191.0     0.0\n",
       "11    │ 93.994   -36.4   4.857  5191.0     0.0\n",
       "12    │ 93.994   -36.4   4.857  5191.0     0.0\n",
       "⋮            ⋮       ⋮       ⋮       ⋮       ⋮\n",
       "30477 │ 94.767   -50.8   1.031  4963.6     0.0\n",
       "30478 │ 94.767   -50.8   1.031  4963.6     0.0\n",
       "30479 │ 94.767   -50.8   1.031  4963.6     1.0\n",
       "30480 │ 94.767   -50.8   1.028  4963.6     0.0\n",
       "30481 │ 94.767   -50.8   1.028  4963.6     0.0\n",
       "30482 │ 94.767   -50.8   1.028  4963.6     1.0\n",
       "30483 │ 94.767   -50.8   1.028  4963.6     0.0\n",
       "30484 │ 94.767   -50.8   1.028  4963.6     1.0\n",
       "30485 │ 94.767   -50.8   1.028  4963.6     0.0\n",
       "30486 │ 94.767   -50.8   1.028  4963.6     0.0\n",
       "30487 │ 94.767   -50.8   1.028  4963.6     1.0\n",
       "30488 │ 94.767   -50.8   1.028  4963.6     0.0"
      ]
     },
     "execution_count": 459,
     "metadata": {},
     "output_type": "execute_result"
    }
   ],
   "source": [
    "using NamedArrays\n",
    "test = NamedArray(munet)"
   ]
  },
  {
   "cell_type": "code",
   "execution_count": 460,
   "metadata": {},
   "outputs": [],
   "source": [
    "#dividing features into X variable and and target into Y\n",
    "X = convert(Array,munet[:,[:1,:2,:3,:4]]);"
   ]
  },
  {
   "cell_type": "code",
   "execution_count": 461,
   "metadata": {},
   "outputs": [],
   "source": [
    "Y = convert(Array,munet[:,[:5]]);"
   ]
  },
  {
   "cell_type": "code",
   "execution_count": 462,
   "metadata": {},
   "outputs": [
    {
     "data": {
      "text/plain": [
       "30488×4 Array{Any,2}:\n",
       " 93.994  -36.4  4.857  5191.0\n",
       " 93.994  -36.4  4.857  5191.0\n",
       " 93.994  -36.4  4.857  5191.0\n",
       " 93.994  -36.4  4.857  5191.0\n",
       " 93.994  -36.4  4.857  5191.0\n",
       " 93.994  -36.4  4.857  5191.0\n",
       " 93.994  -36.4  4.857  5191.0\n",
       " 93.994  -36.4  4.857  5191.0\n",
       " 93.994  -36.4  4.857  5191.0\n",
       " 93.994  -36.4  4.857  5191.0\n",
       " 93.994  -36.4  4.857  5191.0\n",
       " 93.994  -36.4  4.857  5191.0\n",
       " 93.994  -36.4  4.857  5191.0\n",
       "  ⋮                          \n",
       " 94.767  -50.8  1.031  4963.6\n",
       " 94.767  -50.8  1.031  4963.6\n",
       " 94.767  -50.8  1.031  4963.6\n",
       " 94.767  -50.8  1.028  4963.6\n",
       " 94.767  -50.8  1.028  4963.6\n",
       " 94.767  -50.8  1.028  4963.6\n",
       " 94.767  -50.8  1.028  4963.6\n",
       " 94.767  -50.8  1.028  4963.6\n",
       " 94.767  -50.8  1.028  4963.6\n",
       " 94.767  -50.8  1.028  4963.6\n",
       " 94.767  -50.8  1.028  4963.6\n",
       " 94.767  -50.8  1.028  4963.6"
      ]
     },
     "execution_count": 462,
     "metadata": {},
     "output_type": "execute_result"
    }
   ],
   "source": [
    "X"
   ]
  },
  {
   "cell_type": "code",
   "execution_count": 463,
   "metadata": {},
   "outputs": [
    {
     "data": {
      "text/plain": [
       "30488×1 Array{Any,2}:\n",
       " 0.0\n",
       " 0.0\n",
       " 0.0\n",
       " 0.0\n",
       " 0.0\n",
       " 0.0\n",
       " 0.0\n",
       " 0.0\n",
       " 0.0\n",
       " 0.0\n",
       " 0.0\n",
       " 0.0\n",
       " 0.0\n",
       " ⋮  \n",
       " 0.0\n",
       " 0.0\n",
       " 1.0\n",
       " 0.0\n",
       " 0.0\n",
       " 1.0\n",
       " 0.0\n",
       " 1.0\n",
       " 0.0\n",
       " 0.0\n",
       " 1.0\n",
       " 0.0"
      ]
     },
     "execution_count": 463,
     "metadata": {},
     "output_type": "execute_result"
    }
   ],
   "source": [
    "Y"
   ]
  },
  {
   "cell_type": "code",
   "execution_count": 464,
   "metadata": {},
   "outputs": [
    {
     "data": {
      "text/plain": [
       "30488-element Array{Float64,1}:\n",
       " 0.0\n",
       " 0.0\n",
       " 0.0\n",
       " 0.0\n",
       " 0.0\n",
       " 0.0\n",
       " 0.0\n",
       " 0.0\n",
       " 0.0\n",
       " 0.0\n",
       " 0.0\n",
       " 0.0\n",
       " 0.0\n",
       " ⋮  \n",
       " 0.0\n",
       " 0.0\n",
       " 1.0\n",
       " 0.0\n",
       " 0.0\n",
       " 1.0\n",
       " 0.0\n",
       " 1.0\n",
       " 0.0\n",
       " 0.0\n",
       " 1.0\n",
       " 0.0"
      ]
     },
     "execution_count": 464,
     "metadata": {},
     "output_type": "execute_result"
    }
   ],
   "source": [
    "#converting Y set into float for training\n",
    "datatest[!,:y] = convert.(Float64,datatest[!,:y])"
   ]
  },
  {
   "cell_type": "code",
   "execution_count": 465,
   "metadata": {},
   "outputs": [
    {
     "data": {
      "text/plain": [
       "30488"
      ]
     },
     "execution_count": 465,
     "metadata": {},
     "output_type": "execute_result"
    }
   ],
   "source": [
    "num_tr_ex = length(Y);\n",
    "num_tr_ex"
   ]
  },
  {
   "cell_type": "code",
   "execution_count": 466,
   "metadata": {},
   "outputs": [],
   "source": [
    "#naormalizing some features\n",
    "X = (X .- mean(X, dims = [90,1])) ./ std(X, dims = [90,1]);"
   ]
  },
  {
   "cell_type": "code",
   "execution_count": 467,
   "metadata": {},
   "outputs": [
    {
     "data": {
      "text/plain": [
       "((30488, 4), (30488, 1))"
      ]
     },
     "execution_count": 467,
     "metadata": {},
     "output_type": "execute_result"
    }
   ],
   "source": [
    "size(X), size(Y)"
   ]
  },
  {
   "cell_type": "code",
   "execution_count": 488,
   "metadata": {},
   "outputs": [
    {
     "name": "stderr",
     "output_type": "stream",
     "text": [
      "┌ Warning: `param(x)` is deprecated, use `x` instead.\n",
      "│   caller = top-level scope at In[488]:1\n",
      "└ @ Core In[488]:1\n",
      "┌ Warning: `param(x)` is deprecated, use `x` instead.\n",
      "│   caller = top-level scope at In[488]:4\n",
      "└ @ Core In[488]:4\n"
     ]
    },
    {
     "data": {
      "text/plain": [
       "1-element Array{Float64,1}:\n",
       " 0.0"
      ]
     },
     "execution_count": 488,
     "metadata": {},
     "output_type": "execute_result"
    }
   ],
   "source": [
    "#Here we build a model for Log Regression in flux\n",
    "#param tells it what to train\n",
    "W = param(zeros(2))\n",
    "b = param([0.])"
   ]
  },
  {
   "cell_type": "code",
   "execution_count": 480,
   "metadata": {},
   "outputs": [
    {
     "data": {
      "text/plain": [
       "predict (generic function with 1 method)"
      ]
     },
     "execution_count": 480,
     "metadata": {},
     "output_type": "execute_result"
    }
   ],
   "source": [
    "#W is matrix of weight and b is bias\n",
    "predict(x) = NNlib.σ.(x*W .+ b)"
   ]
  },
  {
   "cell_type": "code",
   "execution_count": 439,
   "metadata": {},
   "outputs": [
    {
     "data": {
      "text/plain": [
       "loss (generic function with 1 method)"
      ]
     },
     "execution_count": 439,
     "metadata": {},
     "output_type": "execute_result"
    }
   ],
   "source": [
    "#here we setup loss function\n",
    "loss(x, y) = sum(binarycrossentropy.(predict(x), y))/num_tr_ex"
   ]
  },
  {
   "cell_type": "code",
   "execution_count": 492,
   "metadata": {},
   "outputs": [
    {
     "data": {
      "text/plain": [
       "Params([[0.0, 0.0], [0.0]])"
      ]
     },
     "execution_count": 492,
     "metadata": {},
     "output_type": "execute_result"
    }
   ],
   "source": [
    "using Flux: Params\n",
    "par = Params([W, b])"
   ]
  },
  {
   "cell_type": "code",
   "execution_count": null,
   "metadata": {},
   "outputs": [],
   "source": [
    "#Here we using Stockastic descent with learning rate of 0.01\n",
    "using Flux: Params\n",
    "par = Params([W, b])\n",
    "opt = SGD(par, 0.1; decay = 0)\n",
    "evalcb() = @show(loss(X, Y))"
   ]
  },
  {
   "cell_type": "code",
   "execution_count": null,
   "metadata": {},
   "outputs": [],
   "source": [
    "#here we train the model\n",
    "cb = evalcb\n",
    "datas = repeated((X, Y), 200)\n",
    "Flux.train!(loss, datas, opt, cb)"
   ]
  },
  {
   "cell_type": "code",
   "execution_count": 491,
   "metadata": {},
   "outputs": [
    {
     "data": {
      "text/plain": [
       "0.8733928102860141"
      ]
     },
     "execution_count": 491,
     "metadata": {},
     "output_type": "execute_result"
    }
   ],
   "source": [
    "#We test the accuracy\n",
    "p = predict(x) .> 0.5\n",
    "sum(p .== y) / length(Y)"
   ]
  },
  {
   "cell_type": "code",
   "execution_count": null,
   "metadata": {},
   "outputs": [],
   "source": [
    "predict([0 1])"
   ]
  },
  {
   "cell_type": "code",
   "execution_count": null,
   "metadata": {},
   "outputs": [],
   "source": []
  }
 ],
 "metadata": {
  "kernelspec": {
   "display_name": "Julia 1.2.0",
   "language": "julia",
   "name": "julia-1.2"
  },
  "language_info": {
   "file_extension": ".jl",
   "mimetype": "application/julia",
   "name": "julia",
   "version": "1.2.0"
  }
 },
 "nbformat": 4,
 "nbformat_minor": 2
}
